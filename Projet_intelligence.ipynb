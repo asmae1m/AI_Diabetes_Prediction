{
 "cells": [
  {
   "cell_type": "code",
   "execution_count": 1,
   "id": "49bc436b",
   "metadata": {},
   "outputs": [],
   "source": [
    "import matplotlib.pyplot as plt\n",
    "from matplotlib import ticker\n",
    "import numpy as np\n",
    "import pandas as pd\n",
    "import seaborn as sns\n",
    "import tensorflow as tf\n",
    "import seaborn as sn\n",
    "from sklearn.model_selection import cross_val_score\n",
    "from tensorflow import keras\n",
    "from tensorflow.keras import layers\n",
    "from sklearn import preprocessing\n",
    "from sklearn.model_selection import train_test_split\n",
    "from sklearn.metrics import confusion_matrix\n",
    "from sklearn.neighbors import KNeighborsClassifier\n",
    "from sklearn import neighbors\n",
    "from sklearn.svm import SVC\n",
    "from sklearn import svm\n",
    "from sklearn.tree import DecisionTreeClassifier, plot_tree\n",
    "from sklearn import tree\n",
    "from sklearn.metrics import roc_curve"
   ]
  },
  {
   "cell_type": "markdown",
   "id": "9c1dcf66",
   "metadata": {},
   "source": [
    "# Partie 1 : Machine Learning"
   ]
  },
  {
   "cell_type": "markdown",
   "id": "1ac6c264",
   "metadata": {},
   "source": [
    "##### les données non nettoyés"
   ]
  },
  {
   "cell_type": "code",
   "execution_count": 2,
   "id": "75b0a2b7",
   "metadata": {},
   "outputs": [
    {
     "data": {
      "text/html": [
       "<div>\n",
       "<style scoped>\n",
       "    .dataframe tbody tr th:only-of-type {\n",
       "        vertical-align: middle;\n",
       "    }\n",
       "\n",
       "    .dataframe tbody tr th {\n",
       "        vertical-align: top;\n",
       "    }\n",
       "\n",
       "    .dataframe thead th {\n",
       "        text-align: right;\n",
       "    }\n",
       "</style>\n",
       "<table border=\"1\" class=\"dataframe\">\n",
       "  <thead>\n",
       "    <tr style=\"text-align: right;\">\n",
       "      <th></th>\n",
       "      <th>Pregnancies</th>\n",
       "      <th>Glucose</th>\n",
       "      <th>BloodPressure</th>\n",
       "      <th>SkinThickness</th>\n",
       "      <th>Insulin</th>\n",
       "      <th>BMI</th>\n",
       "      <th>DiabetesPedigreeFunction</th>\n",
       "      <th>Age</th>\n",
       "      <th>Outcome</th>\n",
       "    </tr>\n",
       "  </thead>\n",
       "  <tbody>\n",
       "    <tr>\n",
       "      <th>0</th>\n",
       "      <td>6</td>\n",
       "      <td>148</td>\n",
       "      <td>72</td>\n",
       "      <td>35</td>\n",
       "      <td>0</td>\n",
       "      <td>33.6</td>\n",
       "      <td>0.627</td>\n",
       "      <td>50</td>\n",
       "      <td>1</td>\n",
       "    </tr>\n",
       "    <tr>\n",
       "      <th>1</th>\n",
       "      <td>1</td>\n",
       "      <td>85</td>\n",
       "      <td>66</td>\n",
       "      <td>29</td>\n",
       "      <td>0</td>\n",
       "      <td>26.6</td>\n",
       "      <td>0.351</td>\n",
       "      <td>31</td>\n",
       "      <td>0</td>\n",
       "    </tr>\n",
       "    <tr>\n",
       "      <th>2</th>\n",
       "      <td>8</td>\n",
       "      <td>183</td>\n",
       "      <td>64</td>\n",
       "      <td>0</td>\n",
       "      <td>0</td>\n",
       "      <td>23.3</td>\n",
       "      <td>0.672</td>\n",
       "      <td>32</td>\n",
       "      <td>1</td>\n",
       "    </tr>\n",
       "    <tr>\n",
       "      <th>3</th>\n",
       "      <td>1</td>\n",
       "      <td>89</td>\n",
       "      <td>66</td>\n",
       "      <td>23</td>\n",
       "      <td>94</td>\n",
       "      <td>28.1</td>\n",
       "      <td>0.167</td>\n",
       "      <td>21</td>\n",
       "      <td>0</td>\n",
       "    </tr>\n",
       "    <tr>\n",
       "      <th>4</th>\n",
       "      <td>0</td>\n",
       "      <td>137</td>\n",
       "      <td>40</td>\n",
       "      <td>35</td>\n",
       "      <td>168</td>\n",
       "      <td>43.1</td>\n",
       "      <td>2.288</td>\n",
       "      <td>33</td>\n",
       "      <td>1</td>\n",
       "    </tr>\n",
       "    <tr>\n",
       "      <th>...</th>\n",
       "      <td>...</td>\n",
       "      <td>...</td>\n",
       "      <td>...</td>\n",
       "      <td>...</td>\n",
       "      <td>...</td>\n",
       "      <td>...</td>\n",
       "      <td>...</td>\n",
       "      <td>...</td>\n",
       "      <td>...</td>\n",
       "    </tr>\n",
       "    <tr>\n",
       "      <th>763</th>\n",
       "      <td>10</td>\n",
       "      <td>101</td>\n",
       "      <td>76</td>\n",
       "      <td>48</td>\n",
       "      <td>180</td>\n",
       "      <td>32.9</td>\n",
       "      <td>0.171</td>\n",
       "      <td>63</td>\n",
       "      <td>0</td>\n",
       "    </tr>\n",
       "    <tr>\n",
       "      <th>764</th>\n",
       "      <td>2</td>\n",
       "      <td>122</td>\n",
       "      <td>70</td>\n",
       "      <td>27</td>\n",
       "      <td>0</td>\n",
       "      <td>36.8</td>\n",
       "      <td>0.340</td>\n",
       "      <td>27</td>\n",
       "      <td>0</td>\n",
       "    </tr>\n",
       "    <tr>\n",
       "      <th>765</th>\n",
       "      <td>5</td>\n",
       "      <td>121</td>\n",
       "      <td>72</td>\n",
       "      <td>23</td>\n",
       "      <td>112</td>\n",
       "      <td>26.2</td>\n",
       "      <td>0.245</td>\n",
       "      <td>30</td>\n",
       "      <td>0</td>\n",
       "    </tr>\n",
       "    <tr>\n",
       "      <th>766</th>\n",
       "      <td>1</td>\n",
       "      <td>126</td>\n",
       "      <td>60</td>\n",
       "      <td>0</td>\n",
       "      <td>0</td>\n",
       "      <td>30.1</td>\n",
       "      <td>0.349</td>\n",
       "      <td>47</td>\n",
       "      <td>1</td>\n",
       "    </tr>\n",
       "    <tr>\n",
       "      <th>767</th>\n",
       "      <td>1</td>\n",
       "      <td>93</td>\n",
       "      <td>70</td>\n",
       "      <td>31</td>\n",
       "      <td>0</td>\n",
       "      <td>30.4</td>\n",
       "      <td>0.315</td>\n",
       "      <td>23</td>\n",
       "      <td>0</td>\n",
       "    </tr>\n",
       "  </tbody>\n",
       "</table>\n",
       "<p>768 rows × 9 columns</p>\n",
       "</div>"
      ],
      "text/plain": [
       "     Pregnancies  Glucose  BloodPressure  SkinThickness  Insulin   BMI  \\\n",
       "0              6      148             72             35        0  33.6   \n",
       "1              1       85             66             29        0  26.6   \n",
       "2              8      183             64              0        0  23.3   \n",
       "3              1       89             66             23       94  28.1   \n",
       "4              0      137             40             35      168  43.1   \n",
       "..           ...      ...            ...            ...      ...   ...   \n",
       "763           10      101             76             48      180  32.9   \n",
       "764            2      122             70             27        0  36.8   \n",
       "765            5      121             72             23      112  26.2   \n",
       "766            1      126             60              0        0  30.1   \n",
       "767            1       93             70             31        0  30.4   \n",
       "\n",
       "     DiabetesPedigreeFunction  Age  Outcome  \n",
       "0                       0.627   50        1  \n",
       "1                       0.351   31        0  \n",
       "2                       0.672   32        1  \n",
       "3                       0.167   21        0  \n",
       "4                       2.288   33        1  \n",
       "..                        ...  ...      ...  \n",
       "763                     0.171   63        0  \n",
       "764                     0.340   27        0  \n",
       "765                     0.245   30        0  \n",
       "766                     0.349   47        1  \n",
       "767                     0.315   23        0  \n",
       "\n",
       "[768 rows x 9 columns]"
      ]
     },
     "execution_count": 2,
     "metadata": {},
     "output_type": "execute_result"
    }
   ],
   "source": [
    "#on importe les données sous forme de data-frame\n",
    "dataframe =pd.read_csv(r'C:\\Users\\ASMAE\\Downloads\\diabetes.csv', encoding=\"iso-8859-1\")\n",
    "dataframe"
   ]
  },
  {
   "cell_type": "code",
   "execution_count": 3,
   "id": "269c0fcc",
   "metadata": {},
   "outputs": [
    {
     "data": {
      "text/html": [
       "<div>\n",
       "<style scoped>\n",
       "    .dataframe tbody tr th:only-of-type {\n",
       "        vertical-align: middle;\n",
       "    }\n",
       "\n",
       "    .dataframe tbody tr th {\n",
       "        vertical-align: top;\n",
       "    }\n",
       "\n",
       "    .dataframe thead th {\n",
       "        text-align: right;\n",
       "    }\n",
       "</style>\n",
       "<table border=\"1\" class=\"dataframe\">\n",
       "  <thead>\n",
       "    <tr style=\"text-align: right;\">\n",
       "      <th></th>\n",
       "      <th>Pregnancies</th>\n",
       "      <th>Glucose</th>\n",
       "      <th>BloodPressure</th>\n",
       "      <th>SkinThickness</th>\n",
       "      <th>Insulin</th>\n",
       "      <th>BMI</th>\n",
       "      <th>DiabetesPedigreeFunction</th>\n",
       "      <th>Age</th>\n",
       "      <th>Outcome</th>\n",
       "    </tr>\n",
       "  </thead>\n",
       "  <tbody>\n",
       "    <tr>\n",
       "      <th>0</th>\n",
       "      <td>6</td>\n",
       "      <td>148</td>\n",
       "      <td>72</td>\n",
       "      <td>35</td>\n",
       "      <td>0</td>\n",
       "      <td>33.6</td>\n",
       "      <td>0.627</td>\n",
       "      <td>50</td>\n",
       "      <td>1</td>\n",
       "    </tr>\n",
       "    <tr>\n",
       "      <th>1</th>\n",
       "      <td>1</td>\n",
       "      <td>85</td>\n",
       "      <td>66</td>\n",
       "      <td>29</td>\n",
       "      <td>0</td>\n",
       "      <td>26.6</td>\n",
       "      <td>0.351</td>\n",
       "      <td>31</td>\n",
       "      <td>0</td>\n",
       "    </tr>\n",
       "    <tr>\n",
       "      <th>2</th>\n",
       "      <td>8</td>\n",
       "      <td>183</td>\n",
       "      <td>64</td>\n",
       "      <td>0</td>\n",
       "      <td>0</td>\n",
       "      <td>23.3</td>\n",
       "      <td>0.672</td>\n",
       "      <td>32</td>\n",
       "      <td>1</td>\n",
       "    </tr>\n",
       "    <tr>\n",
       "      <th>3</th>\n",
       "      <td>1</td>\n",
       "      <td>89</td>\n",
       "      <td>66</td>\n",
       "      <td>23</td>\n",
       "      <td>94</td>\n",
       "      <td>28.1</td>\n",
       "      <td>0.167</td>\n",
       "      <td>21</td>\n",
       "      <td>0</td>\n",
       "    </tr>\n",
       "    <tr>\n",
       "      <th>4</th>\n",
       "      <td>0</td>\n",
       "      <td>137</td>\n",
       "      <td>40</td>\n",
       "      <td>35</td>\n",
       "      <td>168</td>\n",
       "      <td>43.1</td>\n",
       "      <td>2.288</td>\n",
       "      <td>33</td>\n",
       "      <td>1</td>\n",
       "    </tr>\n",
       "  </tbody>\n",
       "</table>\n",
       "</div>"
      ],
      "text/plain": [
       "   Pregnancies  Glucose  BloodPressure  SkinThickness  Insulin   BMI  \\\n",
       "0            6      148             72             35        0  33.6   \n",
       "1            1       85             66             29        0  26.6   \n",
       "2            8      183             64              0        0  23.3   \n",
       "3            1       89             66             23       94  28.1   \n",
       "4            0      137             40             35      168  43.1   \n",
       "\n",
       "   DiabetesPedigreeFunction  Age  Outcome  \n",
       "0                     0.627   50        1  \n",
       "1                     0.351   31        0  \n",
       "2                     0.672   32        1  \n",
       "3                     0.167   21        0  \n",
       "4                     2.288   33        1  "
      ]
     },
     "execution_count": 3,
     "metadata": {},
     "output_type": "execute_result"
    }
   ],
   "source": [
    "dataframe.head()"
   ]
  },
  {
   "cell_type": "code",
   "execution_count": 4,
   "id": "a4a2c800",
   "metadata": {},
   "outputs": [],
   "source": [
    "new_dataframe=dataframe[['Pregnancies'\n",
    "                         ,'Glucose',\n",
    "                         'BloodPressure',\n",
    "                         'SkinThickness',\n",
    "                         'Insulin',\n",
    "                         'BMI',\n",
    "                         'DiabetesPedigreeFunction',\n",
    "                         'Age'\n",
    "                        ]]"
   ]
  },
  {
   "cell_type": "code",
   "execution_count": 5,
   "id": "466c82f1",
   "metadata": {},
   "outputs": [
    {
     "name": "stdout",
     "output_type": "stream",
     "text": [
      "<class 'pandas.core.frame.DataFrame'>\n",
      "RangeIndex: 768 entries, 0 to 767\n",
      "Data columns (total 8 columns):\n",
      " #   Column                    Non-Null Count  Dtype  \n",
      "---  ------                    --------------  -----  \n",
      " 0   Pregnancies               768 non-null    int64  \n",
      " 1   Glucose                   768 non-null    int64  \n",
      " 2   BloodPressure             768 non-null    int64  \n",
      " 3   SkinThickness             768 non-null    int64  \n",
      " 4   Insulin                   768 non-null    int64  \n",
      " 5   BMI                       768 non-null    float64\n",
      " 6   DiabetesPedigreeFunction  768 non-null    float64\n",
      " 7   Age                       768 non-null    int64  \n",
      "dtypes: float64(2), int64(6)\n",
      "memory usage: 48.1 KB\n"
     ]
    }
   ],
   "source": [
    "new_dataframe.info()"
   ]
  },
  {
   "cell_type": "code",
   "execution_count": 6,
   "id": "790deeba",
   "metadata": {},
   "outputs": [
    {
     "name": "stderr",
     "output_type": "stream",
     "text": [
      "<ipython-input-6-b6945b4bc904>:1: SettingWithCopyWarning: \n",
      "A value is trying to be set on a copy of a slice from a DataFrame.\n",
      "Try using .loc[row_indexer,col_indexer] = value instead\n",
      "\n",
      "See the caveats in the documentation: https://pandas.pydata.org/pandas-docs/stable/user_guide/indexing.html#returning-a-view-versus-a-copy\n",
      "  new_dataframe['Pregnancies'] = new_dataframe['Pregnancies'].astype(float)\n",
      "<ipython-input-6-b6945b4bc904>:2: SettingWithCopyWarning: \n",
      "A value is trying to be set on a copy of a slice from a DataFrame.\n",
      "Try using .loc[row_indexer,col_indexer] = value instead\n",
      "\n",
      "See the caveats in the documentation: https://pandas.pydata.org/pandas-docs/stable/user_guide/indexing.html#returning-a-view-versus-a-copy\n",
      "  new_dataframe['Glucose'] = new_dataframe['Glucose'].astype(float)\n",
      "<ipython-input-6-b6945b4bc904>:3: SettingWithCopyWarning: \n",
      "A value is trying to be set on a copy of a slice from a DataFrame.\n",
      "Try using .loc[row_indexer,col_indexer] = value instead\n",
      "\n",
      "See the caveats in the documentation: https://pandas.pydata.org/pandas-docs/stable/user_guide/indexing.html#returning-a-view-versus-a-copy\n",
      "  new_dataframe['BloodPressure'] = new_dataframe['BloodPressure'].astype(float)\n",
      "<ipython-input-6-b6945b4bc904>:4: SettingWithCopyWarning: \n",
      "A value is trying to be set on a copy of a slice from a DataFrame.\n",
      "Try using .loc[row_indexer,col_indexer] = value instead\n",
      "\n",
      "See the caveats in the documentation: https://pandas.pydata.org/pandas-docs/stable/user_guide/indexing.html#returning-a-view-versus-a-copy\n",
      "  new_dataframe['SkinThickness'] = new_dataframe['SkinThickness'].astype(float)\n",
      "<ipython-input-6-b6945b4bc904>:5: SettingWithCopyWarning: \n",
      "A value is trying to be set on a copy of a slice from a DataFrame.\n",
      "Try using .loc[row_indexer,col_indexer] = value instead\n",
      "\n",
      "See the caveats in the documentation: https://pandas.pydata.org/pandas-docs/stable/user_guide/indexing.html#returning-a-view-versus-a-copy\n",
      "  new_dataframe['Insulin'] = new_dataframe['Insulin'].astype(float)\n",
      "<ipython-input-6-b6945b4bc904>:6: SettingWithCopyWarning: \n",
      "A value is trying to be set on a copy of a slice from a DataFrame.\n",
      "Try using .loc[row_indexer,col_indexer] = value instead\n",
      "\n",
      "See the caveats in the documentation: https://pandas.pydata.org/pandas-docs/stable/user_guide/indexing.html#returning-a-view-versus-a-copy\n",
      "  new_dataframe['Age'] = new_dataframe['Age'].astype(float)\n"
     ]
    }
   ],
   "source": [
    "new_dataframe['Pregnancies'] = new_dataframe['Pregnancies'].astype(float)\n",
    "new_dataframe['Glucose'] = new_dataframe['Glucose'].astype(float)\n",
    "new_dataframe['BloodPressure'] = new_dataframe['BloodPressure'].astype(float)\n",
    "new_dataframe['SkinThickness'] = new_dataframe['SkinThickness'].astype(float)\n",
    "new_dataframe['Insulin'] = new_dataframe['Insulin'].astype(float)\n",
    "new_dataframe['Age'] = new_dataframe['Age'].astype(float)"
   ]
  },
  {
   "cell_type": "code",
   "execution_count": 7,
   "id": "80a3e335",
   "metadata": {},
   "outputs": [
    {
     "name": "stdout",
     "output_type": "stream",
     "text": [
      "<class 'pandas.core.frame.DataFrame'>\n",
      "RangeIndex: 768 entries, 0 to 767\n",
      "Data columns (total 8 columns):\n",
      " #   Column                    Non-Null Count  Dtype  \n",
      "---  ------                    --------------  -----  \n",
      " 0   Pregnancies               768 non-null    float64\n",
      " 1   Glucose                   768 non-null    float64\n",
      " 2   BloodPressure             768 non-null    float64\n",
      " 3   SkinThickness             768 non-null    float64\n",
      " 4   Insulin                   768 non-null    float64\n",
      " 5   BMI                       768 non-null    float64\n",
      " 6   DiabetesPedigreeFunction  768 non-null    float64\n",
      " 7   Age                       768 non-null    float64\n",
      "dtypes: float64(8)\n",
      "memory usage: 48.1 KB\n"
     ]
    }
   ],
   "source": [
    "new_dataframe.info()"
   ]
  },
  {
   "cell_type": "code",
   "execution_count": 8,
   "id": "c8bb628f",
   "metadata": {},
   "outputs": [
    {
     "data": {
      "text/html": [
       "<div>\n",
       "<style scoped>\n",
       "    .dataframe tbody tr th:only-of-type {\n",
       "        vertical-align: middle;\n",
       "    }\n",
       "\n",
       "    .dataframe tbody tr th {\n",
       "        vertical-align: top;\n",
       "    }\n",
       "\n",
       "    .dataframe thead th {\n",
       "        text-align: right;\n",
       "    }\n",
       "</style>\n",
       "<table border=\"1\" class=\"dataframe\">\n",
       "  <thead>\n",
       "    <tr style=\"text-align: right;\">\n",
       "      <th></th>\n",
       "      <th>Outcome</th>\n",
       "    </tr>\n",
       "  </thead>\n",
       "  <tbody>\n",
       "    <tr>\n",
       "      <th>0</th>\n",
       "      <td>1</td>\n",
       "    </tr>\n",
       "    <tr>\n",
       "      <th>1</th>\n",
       "      <td>0</td>\n",
       "    </tr>\n",
       "    <tr>\n",
       "      <th>2</th>\n",
       "      <td>1</td>\n",
       "    </tr>\n",
       "    <tr>\n",
       "      <th>3</th>\n",
       "      <td>0</td>\n",
       "    </tr>\n",
       "    <tr>\n",
       "      <th>4</th>\n",
       "      <td>1</td>\n",
       "    </tr>\n",
       "    <tr>\n",
       "      <th>...</th>\n",
       "      <td>...</td>\n",
       "    </tr>\n",
       "    <tr>\n",
       "      <th>763</th>\n",
       "      <td>0</td>\n",
       "    </tr>\n",
       "    <tr>\n",
       "      <th>764</th>\n",
       "      <td>0</td>\n",
       "    </tr>\n",
       "    <tr>\n",
       "      <th>765</th>\n",
       "      <td>0</td>\n",
       "    </tr>\n",
       "    <tr>\n",
       "      <th>766</th>\n",
       "      <td>1</td>\n",
       "    </tr>\n",
       "    <tr>\n",
       "      <th>767</th>\n",
       "      <td>0</td>\n",
       "    </tr>\n",
       "  </tbody>\n",
       "</table>\n",
       "<p>768 rows × 1 columns</p>\n",
       "</div>"
      ],
      "text/plain": [
       "     Outcome\n",
       "0          1\n",
       "1          0\n",
       "2          1\n",
       "3          0\n",
       "4          1\n",
       "..       ...\n",
       "763        0\n",
       "764        0\n",
       "765        0\n",
       "766        1\n",
       "767        0\n",
       "\n",
       "[768 rows x 1 columns]"
      ]
     },
     "execution_count": 8,
     "metadata": {},
     "output_type": "execute_result"
    }
   ],
   "source": [
    "y=dataframe[['Outcome']]\n",
    "y"
   ]
  },
  {
   "cell_type": "code",
   "execution_count": 9,
   "id": "fba4a0ae",
   "metadata": {},
   "outputs": [
    {
     "data": {
      "text/plain": [
       "array([[<AxesSubplot:title={'center':'Pregnancies'}>,\n",
       "        <AxesSubplot:title={'center':'Glucose'}>,\n",
       "        <AxesSubplot:title={'center':'BloodPressure'}>],\n",
       "       [<AxesSubplot:title={'center':'SkinThickness'}>,\n",
       "        <AxesSubplot:title={'center':'Insulin'}>,\n",
       "        <AxesSubplot:title={'center':'BMI'}>],\n",
       "       [<AxesSubplot:title={'center':'DiabetesPedigreeFunction'}>,\n",
       "        <AxesSubplot:title={'center':'Age'}>, <AxesSubplot:>]],\n",
       "      dtype=object)"
      ]
     },
     "execution_count": 9,
     "metadata": {},
     "output_type": "execute_result"
    },
    {
     "data": {
      "image/png": "[encoded data removed]",
      "text/plain": [
       "<Figure size 1440x720 with 9 Axes>"
      ]
     },
     "metadata": {
      "needs_background": "light"
     },
     "output_type": "display_data"
    }
   ],
   "source": [
    "new_dataframe.hist(bins=6,figsize=(20,10),density=1,color='blue',alpha=0.7)"
   ]
  },
  {
   "cell_type": "code",
   "execution_count": 10,
   "id": "bb774508",
   "metadata": {},
   "outputs": [
    {
     "data": {
      "text/plain": [
       "array([[  6.   , 148.   ,  72.   , ...,  33.6  ,   0.627,  50.   ],\n",
       "       [  1.   ,  85.   ,  66.   , ...,  26.6  ,   0.351,  31.   ],\n",
       "       [  8.   , 183.   ,  64.   , ...,  23.3  ,   0.672,  32.   ],\n",
       "       ...,\n",
       "       [  5.   , 121.   ,  72.   , ...,  26.2  ,   0.245,  30.   ],\n",
       "       [  1.   , 126.   ,  60.   , ...,  30.1  ,   0.349,  47.   ],\n",
       "       [  1.   ,  93.   ,  70.   , ...,  30.4  ,   0.315,  23.   ]])"
      ]
     },
     "execution_count": 10,
     "metadata": {},
     "output_type": "execute_result"
    }
   ],
   "source": [
    "# On convertie notre dataframe en matrice afin de pouvoir la scaler\n",
    "new_dataframe_matrix = new_dataframe.values\n",
    "\n",
    "new_dataframe_matrix"
   ]
  },
  {
   "cell_type": "code",
   "execution_count": 11,
   "id": "1307e143",
   "metadata": {},
   "outputs": [
    {
     "data": {
      "text/plain": [
       "StandardScaler()"
      ]
     },
     "execution_count": 11,
     "metadata": {},
     "output_type": "execute_result"
    }
   ],
   "source": [
    "# preprocessing a comme role de uninanimer nos données, si par exemple on des données en cm et d'autres dm, après le \n",
    "# preprocessing ces données deviennent pareilles, ceci est très important pour ne pas influencer nos resultats\n",
    "scaler = preprocessing.StandardScaler().fit(new_dataframe_matrix)\n",
    "scaler"
   ]
  },
  {
   "cell_type": "code",
   "execution_count": 12,
   "id": "8e9ff81b",
   "metadata": {},
   "outputs": [
    {
     "data": {
      "text/plain": [
       "array([  3.84505208, 120.89453125,  69.10546875,  20.53645833,\n",
       "        79.79947917,  31.99257812,   0.4718763 ,  33.24088542])"
      ]
     },
     "execution_count": 12,
     "metadata": {},
     "output_type": "execute_result"
    }
   ],
   "source": [
    "#moyenne\n",
    "scaler.mean_"
   ]
  },
  {
   "cell_type": "code",
   "execution_count": 13,
   "id": "4a7ff0fd",
   "metadata": {},
   "outputs": [
    {
     "data": {
      "text/plain": [
       "array([  3.36738361,  31.95179591,  19.34320163,  15.94182863,\n",
       "       115.16894926,   7.87902573,   0.33111282,  11.75257265])"
      ]
     },
     "execution_count": 13,
     "metadata": {},
     "output_type": "execute_result"
    }
   ],
   "source": [
    "#médiane\n",
    "scaler.scale_"
   ]
  },
  {
   "cell_type": "code",
   "execution_count": 14,
   "id": "ba263ef5",
   "metadata": {},
   "outputs": [
    {
     "data": {
      "text/plain": [
       "array([[ 0.63994726,  0.84832379,  0.14964075, ...,  0.20401277,\n",
       "         0.46849198,  1.4259954 ],\n",
       "       [-0.84488505, -1.12339636, -0.16054575, ..., -0.68442195,\n",
       "        -0.36506078, -0.19067191],\n",
       "       [ 1.23388019,  1.94372388, -0.26394125, ..., -1.10325546,\n",
       "         0.60439732, -0.10558415],\n",
       "       ...,\n",
       "       [ 0.3429808 ,  0.00330087,  0.14964075, ..., -0.73518964,\n",
       "        -0.68519336, -0.27575966],\n",
       "       [-0.84488505,  0.1597866 , -0.47073225, ..., -0.24020459,\n",
       "        -0.37110101,  1.17073215],\n",
       "       [-0.84488505, -0.8730192 ,  0.04624525, ..., -0.20212881,\n",
       "        -0.47378505, -0.87137393]])"
      ]
     },
     "execution_count": 14,
     "metadata": {},
     "output_type": "execute_result"
    }
   ],
   "source": [
    "dataframe_scaled = scaler.transform(new_dataframe_matrix)\n",
    "dataframe_scaled"
   ]
  },
  {
   "cell_type": "markdown",
   "id": "be6f86a9",
   "metadata": {},
   "source": [
    "#### Histogramme après normalisation des données\n"
   ]
  },
  {
   "cell_type": "code",
   "execution_count": 16,
   "id": "ed661417",
   "metadata": {},
   "outputs": [
    {
     "name": "stdout",
     "output_type": "stream",
     "text": [
      "<class 'pandas.core.frame.DataFrame'>\n",
      "RangeIndex: 768 entries, 0 to 767\n",
      "Data columns (total 8 columns):\n",
      " #   Column                    Non-Null Count  Dtype  \n",
      "---  ------                    --------------  -----  \n",
      " 0   Pregnancies               768 non-null    float64\n",
      " 1   Glucose                   768 non-null    float64\n",
      " 2   BloodPressure             768 non-null    float64\n",
      " 3   SkinThickness             768 non-null    float64\n",
      " 4   Insulin                   768 non-null    float64\n",
      " 5   BMI                       768 non-null    float64\n",
      " 6   DiabetesPedigreeFunction  768 non-null    float64\n",
      " 7   Age                       768 non-null    float64\n",
      "dtypes: float64(8)\n",
      "memory usage: 48.1 KB\n"
     ]
    },
    {
     "data": {
      "text/plain": [
       "array([[<AxesSubplot:title={'center':'Pregnancies'}>,\n",
       "        <AxesSubplot:title={'center':'Glucose'}>,\n",
       "        <AxesSubplot:title={'center':'BloodPressure'}>],\n",
       "       [<AxesSubplot:title={'center':'SkinThickness'}>,\n",
       "        <AxesSubplot:title={'center':'Insulin'}>,\n",
       "        <AxesSubplot:title={'center':'BMI'}>],\n",
       "       [<AxesSubplot:title={'center':'DiabetesPedigreeFunction'}>,\n",
       "        <AxesSubplot:title={'center':'Age'}>, <AxesSubplot:>]],\n",
       "      dtype=object)"
      ]
     },
     "execution_count": 16,
     "metadata": {},
     "output_type": "execute_result"
    },
    {
     "data": {
      "image/png": "[encoded data removed]",
      "text/plain": [
       "<Figure size 576x864 with 9 Axes>"
      ]
     },
     "metadata": {
      "needs_background": "light"
     },
     "output_type": "display_data"
    }
   ],
   "source": [
    "histed=pd.DataFrame(dataframe_scaled,columns=['Pregnancies'\n",
    "                         ,'Glucose',\n",
    "                         'BloodPressure',\n",
    "                         'SkinThickness',\n",
    "                         'Insulin',\n",
    "                         'BMI',\n",
    "                         'DiabetesPedigreeFunction',\n",
    "                         'Age'])\n",
    "histed.info()\n",
    "histed.hist(figsize=(8,12))"
   ]
  },
  {
   "cell_type": "markdown",
   "id": "d2a656d5",
   "metadata": {},
   "source": [
    "### ii. split des données\n"
   ]
  },
  {
   "cell_type": "code",
   "execution_count": 17,
   "id": "e52c0623",
   "metadata": {},
   "outputs": [],
   "source": [
    "x_train, x_test, y_train, y_test = train_test_split(new_dataframe, y, train_size=0.8)"
   ]
  },
  {
   "cell_type": "code",
   "execution_count": 18,
   "id": "fbeb838e",
   "metadata": {},
   "outputs": [
    {
     "data": {
      "text/html": [
       "<div>\n",
       "<style scoped>\n",
       "    .dataframe tbody tr th:only-of-type {\n",
       "        vertical-align: middle;\n",
       "    }\n",
       "\n",
       "    .dataframe tbody tr th {\n",
       "        vertical-align: top;\n",
       "    }\n",
       "\n",
       "    .dataframe thead th {\n",
       "        text-align: right;\n",
       "    }\n",
       "</style>\n",
       "<table border=\"1\" class=\"dataframe\">\n",
       "  <thead>\n",
       "    <tr style=\"text-align: right;\">\n",
       "      <th></th>\n",
       "      <th>Outcome</th>\n",
       "    </tr>\n",
       "  </thead>\n",
       "  <tbody>\n",
       "    <tr>\n",
       "      <th>157</th>\n",
       "      <td>0</td>\n",
       "    </tr>\n",
       "    <tr>\n",
       "      <th>385</th>\n",
       "      <td>0</td>\n",
       "    </tr>\n",
       "    <tr>\n",
       "      <th>113</th>\n",
       "      <td>0</td>\n",
       "    </tr>\n",
       "    <tr>\n",
       "      <th>605</th>\n",
       "      <td>0</td>\n",
       "    </tr>\n",
       "    <tr>\n",
       "      <th>131</th>\n",
       "      <td>1</td>\n",
       "    </tr>\n",
       "    <tr>\n",
       "      <th>...</th>\n",
       "      <td>...</td>\n",
       "    </tr>\n",
       "    <tr>\n",
       "      <th>189</th>\n",
       "      <td>1</td>\n",
       "    </tr>\n",
       "    <tr>\n",
       "      <th>510</th>\n",
       "      <td>1</td>\n",
       "    </tr>\n",
       "    <tr>\n",
       "      <th>244</th>\n",
       "      <td>0</td>\n",
       "    </tr>\n",
       "    <tr>\n",
       "      <th>168</th>\n",
       "      <td>0</td>\n",
       "    </tr>\n",
       "    <tr>\n",
       "      <th>678</th>\n",
       "      <td>1</td>\n",
       "    </tr>\n",
       "  </tbody>\n",
       "</table>\n",
       "<p>614 rows × 1 columns</p>\n",
       "</div>"
      ],
      "text/plain": [
       "     Outcome\n",
       "157        0\n",
       "385        0\n",
       "113        0\n",
       "605        0\n",
       "131        1\n",
       "..       ...\n",
       "189        1\n",
       "510        1\n",
       "244        0\n",
       "168        0\n",
       "678        1\n",
       "\n",
       "[614 rows x 1 columns]"
      ]
     },
     "execution_count": 18,
     "metadata": {},
     "output_type": "execute_result"
    }
   ],
   "source": [
    "y_train"
   ]
  },
  {
   "cell_type": "code",
   "execution_count": 19,
   "id": "85f15af6",
   "metadata": {},
   "outputs": [
    {
     "data": {
      "text/plain": [
       "Outcome\n",
       "0          500\n",
       "1          268\n",
       "dtype: int64"
      ]
     },
     "execution_count": 19,
     "metadata": {},
     "output_type": "execute_result"
    }
   ],
   "source": [
    "y.value_counts()"
   ]
  },
  {
   "cell_type": "markdown",
   "id": "21c1f946",
   "metadata": {},
   "source": [
    "### iii.Les différentes modélisations"
   ]
  },
  {
   "cell_type": "markdown",
   "id": "804ad4fa",
   "metadata": {},
   "source": [
    "## 1. La regression logistique"
   ]
  },
  {
   "cell_type": "code",
   "execution_count": 20,
   "id": "78d8811d",
   "metadata": {},
   "outputs": [],
   "source": [
    "from sklearn.linear_model import SGDClassifier\n",
    "from sklearn import metrics\n",
    "from sklearn.pipeline import make_pipeline"
   ]
  },
  {
   "cell_type": "code",
   "execution_count": 21,
   "id": "a8892c8b",
   "metadata": {},
   "outputs": [
    {
     "name": "stderr",
     "output_type": "stream",
     "text": [
      "C:\\Users\\ASMAE\\anaconda3\\lib\\site-packages\\sklearn\\utils\\validation.py:63: DataConversionWarning: A column-vector y was passed when a 1d array was expected. Please change the shape of y to (n_samples, ), for example using ravel().\n",
      "  return f(*args, **kwargs)\n"
     ]
    },
    {
     "data": {
      "text/plain": [
       "SGDClassifier(eta0=0.0001, loss='log')"
      ]
     },
     "execution_count": 21,
     "metadata": {},
     "output_type": "execute_result"
    }
   ],
   "source": [
    "logreg = SGDClassifier(loss=\"log\", max_iter=1000,eta0=0.0001)\n",
    "logreg.fit(x_train,y_train)"
   ]
  },
  {
   "cell_type": "markdown",
   "id": "550d2ed1",
   "metadata": {},
   "source": [
    "#### Matrice de confusion (Logistical Rgeression)"
   ]
  },
  {
   "cell_type": "code",
   "execution_count": 22,
   "id": "e8f4db8b",
   "metadata": {},
   "outputs": [],
   "source": [
    "y_pred = logreg.predict(x_test)"
   ]
  },
  {
   "cell_type": "code",
   "execution_count": 23,
   "id": "8535cab3",
   "metadata": {},
   "outputs": [
    {
     "data": {
      "text/plain": [
       "array([[78, 20],\n",
       "       [29, 27]], dtype=int64)"
      ]
     },
     "execution_count": 23,
     "metadata": {},
     "output_type": "execute_result"
    }
   ],
   "source": [
    "cm_log = confusion_matrix(y_test, y_pred)\n",
    "cm_log"
   ]
  },
  {
   "cell_type": "code",
   "execution_count": 24,
   "id": "27234b2d",
   "metadata": {},
   "outputs": [
    {
     "data": {
      "text/plain": [
       "Text(42.0, 0.5, 'Truth')"
      ]
     },
     "execution_count": 24,
     "metadata": {},
     "output_type": "execute_result"
    },
    {
     "data": {
      "image/png": "[encoded data removed]",
      "text/plain": [
       "<Figure size 504x360 with 2 Axes>"
      ]
     },
     "metadata": {
      "needs_background": "light"
     },
     "output_type": "display_data"
    }
   ],
   "source": [
    "plt.figure(figsize=(7,5))\n",
    "sn.heatmap(cm_log, annot=True)\n",
    "plt.xlabel('Predicted')\n",
    "plt.ylabel('Truth')"
   ]
  },
  {
   "cell_type": "markdown",
   "id": "a4f4568a",
   "metadata": {},
   "source": [
    "#### on calcule des mesures necessaires "
   ]
  },
  {
   "cell_type": "markdown",
   "id": "0e42e517",
   "metadata": {},
   "source": [
    "##### on calcule accuracy : accuracy = TP/(TP+FP)"
   ]
  },
  {
   "cell_type": "code",
   "execution_count": 27,
   "id": "84252ef5",
   "metadata": {},
   "outputs": [
    {
     "data": {
      "text/plain": [
       "0.6818181818181818"
      ]
     },
     "execution_count": 27,
     "metadata": {},
     "output_type": "execute_result"
    }
   ],
   "source": [
    "accuracy = metrics.accuracy_score(y_test,y_pred)\n",
    "accuracy"
   ]
  },
  {
   "cell_type": "code",
   "execution_count": 28,
   "id": "5f2aec25",
   "metadata": {},
   "outputs": [
    {
     "data": {
      "text/plain": [
       "0.48214285714285715"
      ]
     },
     "execution_count": 28,
     "metadata": {},
     "output_type": "execute_result"
    }
   ],
   "source": [
    "rappel = metrics.recall_score(y_test,y_pred)\n",
    "rappel"
   ]
  },
  {
   "cell_type": "code",
   "execution_count": 29,
   "id": "132d3f82",
   "metadata": {},
   "outputs": [
    {
     "data": {
      "text/plain": [
       "0.574468085106383"
      ]
     },
     "execution_count": 29,
     "metadata": {},
     "output_type": "execute_result"
    }
   ],
   "source": [
    "#La précision\n",
    "precision = metrics.precision_score(y_test,y_pred)\n",
    "precision"
   ]
  },
  {
   "cell_type": "code",
   "execution_count": 30,
   "id": "9a8a92fb",
   "metadata": {},
   "outputs": [
    {
     "name": "stdout",
     "output_type": "stream",
     "text": [
      "Erreur: 0.318182\n"
     ]
    }
   ],
   "source": [
    "error = 1 - logreg.score(x_test, y_test)\n",
    "print('Erreur: %f' % error)"
   ]
  },
  {
   "cell_type": "markdown",
   "id": "582cf62f",
   "metadata": {},
   "source": [
    "## 2.Modèle Ridge"
   ]
  },
  {
   "cell_type": "code",
   "execution_count": 31,
   "id": "b25c0e5c",
   "metadata": {},
   "outputs": [
    {
     "data": {
      "text/plain": [
       "0.30531127875844877"
      ]
     },
     "execution_count": 31,
     "metadata": {},
     "output_type": "execute_result"
    }
   ],
   "source": [
    "from sklearn.linear_model import Ridge\n",
    "from sklearn.metrics import r2_score\n",
    "\n",
    "rid = Ridge(10).fit(x_train, y_train)\n",
    "rid.score(x_test,y_test)"
   ]
  },
  {
   "cell_type": "markdown",
   "id": "60962be6",
   "metadata": {},
   "source": [
    "#### ** Le modèle Ridge est un modèle qui n'est utile que lorsqu’il y a une corrélation entre les variables de notre dataset et donc il marche parfaitement beaucoup de variables car la probabilité d’avoir des variables corrélées est grande."
   ]
  },
  {
   "cell_type": "markdown",
   "id": "4795808b",
   "metadata": {},
   "source": [
    "#### --> Pour démontrer ça on calcule la corrélation entre toutes les variables de notre dataset, et d'après le schéma ci-dessous on remarque que il n ya pas une grande relation entre ces derniers, en plus le nbre de nos entrées n'est pas très important, donc le score n'est pas très satisfaisant"
   ]
  },
  {
   "cell_type": "code",
   "execution_count": 32,
   "id": "59a8f2ab",
   "metadata": {},
   "outputs": [
    {
     "data": {
      "image/png": "[encoded data removed]",
      "text/plain": [
       "<Figure size 432x288 with 2 Axes>"
      ]
     },
     "metadata": {
      "needs_background": "light"
     },
     "output_type": "display_data"
    }
   ],
   "source": [
    "corr = new_dataframe.corr()\n",
    "fig = plt.figure()\n",
    "ax = fig.add_subplot(111)\n",
    "cax = ax.matshow(corr,cmap='coolwarm', vmin=-1, vmax=1)\n",
    "fig.colorbar(cax)\n",
    "ticks = np.arange(0,len(new_dataframe.columns),1)\n",
    "ax.set_xticks(ticks)\n",
    "plt.xticks(rotation=90)\n",
    "ax.set_yticks(ticks)\n",
    "ax.set_xticklabels(new_dataframe.columns)#\n",
    "ax.set_yticklabels(new_dataframe.columns)\n",
    "plt.show()\n",
    "\n",
    "## les zones en gris montrent que la corrélation est très faible"
   ]
  },
  {
   "cell_type": "code",
   "execution_count": 33,
   "id": "58513773",
   "metadata": {},
   "outputs": [
    {
     "data": {
      "text/plain": [
       "Pregnancies                 0.205504\n",
       "Glucose                     0.286582\n",
       "BloodPressure               0.269097\n",
       "SkinThickness               0.260292\n",
       "Insulin                     0.265538\n",
       "BMI                         0.285985\n",
       "DiabetesPedigreeFunction    0.211036\n",
       "Age                         0.245132\n",
       "dtype: float64"
      ]
     },
     "execution_count": 33,
     "metadata": {},
     "output_type": "execute_result"
    }
   ],
   "source": [
    "corr.mean()\n",
    "# ce qui explique pourquoi le score est très faible"
   ]
  },
  {
   "cell_type": "markdown",
   "id": "26410c40",
   "metadata": {},
   "source": [
    "### maintenant on doit convertir notre problème en un problème de classification binaire pour avoir un y_predict qui varie entre 0 et 1"
   ]
  },
  {
   "cell_type": "markdown",
   "id": "ddb80c50",
   "metadata": {},
   "source": [
    "#### pour cela on utilise le RidgeClassifier"
   ]
  },
  {
   "cell_type": "code",
   "execution_count": 34,
   "id": "ab797baa",
   "metadata": {},
   "outputs": [],
   "source": [
    "from sklearn.linear_model import RidgeClassifier"
   ]
  },
  {
   "cell_type": "code",
   "execution_count": 35,
   "id": "60426335",
   "metadata": {},
   "outputs": [
    {
     "name": "stdout",
     "output_type": "stream",
     "text": [
      "RidgeClassifier()\n"
     ]
    },
    {
     "data": {
      "text/plain": [
       "RidgeClassifier(normalize=True)"
      ]
     },
     "execution_count": 35,
     "metadata": {},
     "output_type": "execute_result"
    }
   ],
   "source": [
    "rc = RidgeClassifier()\n",
    "print(rc)\n",
    "\n",
    "RidgeClassifier(alpha=1.0, class_weight=None, copy_X=True, fit_intercept=True,\n",
    "                max_iter=None, normalize=True, random_state=None, solver='auto',\n",
    "                tol=0.001)"
   ]
  },
  {
   "cell_type": "code",
   "execution_count": 36,
   "id": "ac52e6ff",
   "metadata": {},
   "outputs": [
    {
     "name": "stdout",
     "output_type": "stream",
     "text": [
      "Score:  0.7662337662337663\n"
     ]
    },
    {
     "name": "stderr",
     "output_type": "stream",
     "text": [
      "C:\\Users\\ASMAE\\anaconda3\\lib\\site-packages\\sklearn\\utils\\validation.py:63: DataConversionWarning: A column-vector y was passed when a 1d array was expected. Please change the shape of y to (n_samples, ), for example using ravel().\n",
      "  return f(*args, **kwargs)\n"
     ]
    }
   ],
   "source": [
    "rc.fit(x_train, y_train)\n",
    "score = rc.score(x_test, y_test)\n",
    "print(\"Score: \", score)"
   ]
  },
  {
   "cell_type": "code",
   "execution_count": 37,
   "id": "9496ccf2",
   "metadata": {},
   "outputs": [
    {
     "data": {
      "text/plain": [
       "array([1, 1, 0, 0, 0, 1, 0, 0, 0, 1, 0, 0, 1, 0, 1, 0, 0, 0, 0, 1, 1, 0,\n",
       "       0, 0, 0, 1, 0, 0, 0, 0, 0, 0, 1, 0, 0, 1, 1, 0, 0, 0, 0, 1, 0, 0,\n",
       "       0, 0, 0, 0, 0, 0, 0, 1, 0, 0, 0, 0, 0, 1, 0, 1, 0, 0, 0, 0, 1, 1,\n",
       "       0, 0, 0, 1, 1, 0, 1, 1, 0, 0, 0, 1, 1, 0, 1, 1, 0, 0, 0, 0, 1, 0,\n",
       "       1, 0, 0, 1, 1, 0, 0, 0, 1, 1, 0, 0, 1, 1, 0, 0, 0, 0, 0, 0, 1, 0,\n",
       "       0, 0, 0, 0, 0, 0, 0, 1, 0, 1, 1, 1, 0, 1, 0, 0, 0, 0, 0, 0, 0, 0,\n",
       "       0, 0, 0, 0, 0, 1, 1, 1, 1, 0, 1, 0, 0, 0, 0, 1, 0, 0, 0, 1, 0, 1],\n",
       "      dtype=int64)"
      ]
     },
     "execution_count": 37,
     "metadata": {},
     "output_type": "execute_result"
    }
   ],
   "source": [
    "y_predRidge = rc.predict(x_test)\n",
    "y_predRidge"
   ]
  },
  {
   "cell_type": "markdown",
   "id": "e73df618",
   "metadata": {},
   "source": [
    "#### Matrice de confusion (Ridge)"
   ]
  },
  {
   "cell_type": "code",
   "execution_count": 38,
   "id": "36b18f62",
   "metadata": {},
   "outputs": [
    {
     "data": {
      "text/plain": [
       "array([[84, 14],\n",
       "       [22, 34]], dtype=int64)"
      ]
     },
     "execution_count": 38,
     "metadata": {},
     "output_type": "execute_result"
    }
   ],
   "source": [
    "cm_Ridge = confusion_matrix(y_test, y_predRidge)\n",
    "cm_Ridge"
   ]
  },
  {
   "cell_type": "code",
   "execution_count": 39,
   "id": "bc01b539",
   "metadata": {},
   "outputs": [
    {
     "data": {
      "text/plain": [
       "Text(42.0, 0.5, 'Truth')"
      ]
     },
     "execution_count": 39,
     "metadata": {},
     "output_type": "execute_result"
    },
    {
     "data": {
      "image/png": "[encoded data removed]",
      "text/plain": [
       "<Figure size 504x360 with 2 Axes>"
      ]
     },
     "metadata": {
      "needs_background": "light"
     },
     "output_type": "display_data"
    }
   ],
   "source": [
    "plt.figure(figsize=(7,5))\n",
    "sn.heatmap(cm_Ridge, annot=True)\n",
    "plt.xlabel('Predicted')\n",
    "plt.ylabel('Truth')"
   ]
  },
  {
   "cell_type": "markdown",
   "id": "fa377f8c",
   "metadata": {},
   "source": [
    "### Les mesures (Ridge)"
   ]
  },
  {
   "cell_type": "code",
   "execution_count": 40,
   "id": "7f8580fe",
   "metadata": {},
   "outputs": [
    {
     "data": {
      "text/plain": [
       "0.7662337662337663"
      ]
     },
     "execution_count": 40,
     "metadata": {},
     "output_type": "execute_result"
    }
   ],
   "source": [
    "accuracy = metrics.accuracy_score(y_test,y_predRidge)\n",
    "accuracy"
   ]
  },
  {
   "cell_type": "code",
   "execution_count": 41,
   "id": "22f781cb",
   "metadata": {},
   "outputs": [
    {
     "data": {
      "text/plain": [
       "0.6071428571428571"
      ]
     },
     "execution_count": 41,
     "metadata": {},
     "output_type": "execute_result"
    }
   ],
   "source": [
    "rappel = metrics.recall_score(y_test,y_predRidge)\n",
    "rappel"
   ]
  },
  {
   "cell_type": "code",
   "execution_count": 42,
   "id": "ad4e4256",
   "metadata": {},
   "outputs": [
    {
     "data": {
      "text/plain": [
       "0.7083333333333334"
      ]
     },
     "execution_count": 42,
     "metadata": {},
     "output_type": "execute_result"
    }
   ],
   "source": [
    "#La précision\n",
    "precision = metrics.precision_score(y_test,y_predRidge)\n",
    "precision"
   ]
  },
  {
   "cell_type": "code",
   "execution_count": 43,
   "id": "67375759",
   "metadata": {},
   "outputs": [
    {
     "name": "stdout",
     "output_type": "stream",
     "text": [
      "Erreur: 0.233766\n"
     ]
    }
   ],
   "source": [
    "error = 1 - rc.score(x_test, y_test)\n",
    "print('Erreur: %f' % error)"
   ]
  },
  {
   "cell_type": "markdown",
   "id": "a3b1bb32",
   "metadata": {},
   "source": [
    "## 3.Modèle KNN"
   ]
  },
  {
   "cell_type": "code",
   "execution_count": 44,
   "id": "877f51de",
   "metadata": {},
   "outputs": [
    {
     "name": "stderr",
     "output_type": "stream",
     "text": [
      "C:\\Users\\ASMAE\\anaconda3\\lib\\site-packages\\sklearn\\neighbors\\_classification.py:179: DataConversionWarning: A column-vector y was passed when a 1d array was expected. Please change the shape of y to (n_samples,), for example using ravel().\n",
      "  return self._fit(X, y)\n",
      "C:\\Users\\ASMAE\\anaconda3\\lib\\site-packages\\sklearn\\neighbors\\_classification.py:179: DataConversionWarning: A column-vector y was passed when a 1d array was expected. Please change the shape of y to (n_samples,), for example using ravel().\n",
      "  return self._fit(X, y)\n",
      "C:\\Users\\ASMAE\\anaconda3\\lib\\site-packages\\sklearn\\neighbors\\_classification.py:179: DataConversionWarning: A column-vector y was passed when a 1d array was expected. Please change the shape of y to (n_samples,), for example using ravel().\n",
      "  return self._fit(X, y)\n",
      "C:\\Users\\ASMAE\\anaconda3\\lib\\site-packages\\sklearn\\neighbors\\_classification.py:179: DataConversionWarning: A column-vector y was passed when a 1d array was expected. Please change the shape of y to (n_samples,), for example using ravel().\n",
      "  return self._fit(X, y)\n",
      "C:\\Users\\ASMAE\\anaconda3\\lib\\site-packages\\sklearn\\neighbors\\_classification.py:179: DataConversionWarning: A column-vector y was passed when a 1d array was expected. Please change the shape of y to (n_samples,), for example using ravel().\n",
      "  return self._fit(X, y)\n",
      "C:\\Users\\ASMAE\\anaconda3\\lib\\site-packages\\sklearn\\neighbors\\_classification.py:179: DataConversionWarning: A column-vector y was passed when a 1d array was expected. Please change the shape of y to (n_samples,), for example using ravel().\n",
      "  return self._fit(X, y)\n",
      "C:\\Users\\ASMAE\\anaconda3\\lib\\site-packages\\sklearn\\neighbors\\_classification.py:179: DataConversionWarning: A column-vector y was passed when a 1d array was expected. Please change the shape of y to (n_samples,), for example using ravel().\n",
      "  return self._fit(X, y)\n",
      "C:\\Users\\ASMAE\\anaconda3\\lib\\site-packages\\sklearn\\neighbors\\_classification.py:179: DataConversionWarning: A column-vector y was passed when a 1d array was expected. Please change the shape of y to (n_samples,), for example using ravel().\n",
      "  return self._fit(X, y)\n",
      "C:\\Users\\ASMAE\\anaconda3\\lib\\site-packages\\sklearn\\neighbors\\_classification.py:179: DataConversionWarning: A column-vector y was passed when a 1d array was expected. Please change the shape of y to (n_samples,), for example using ravel().\n",
      "  return self._fit(X, y)\n",
      "C:\\Users\\ASMAE\\anaconda3\\lib\\site-packages\\sklearn\\neighbors\\_classification.py:179: DataConversionWarning: A column-vector y was passed when a 1d array was expected. Please change the shape of y to (n_samples,), for example using ravel().\n",
      "  return self._fit(X, y)\n",
      "C:\\Users\\ASMAE\\anaconda3\\lib\\site-packages\\sklearn\\neighbors\\_classification.py:179: DataConversionWarning: A column-vector y was passed when a 1d array was expected. Please change the shape of y to (n_samples,), for example using ravel().\n",
      "  return self._fit(X, y)\n",
      "C:\\Users\\ASMAE\\anaconda3\\lib\\site-packages\\sklearn\\neighbors\\_classification.py:179: DataConversionWarning: A column-vector y was passed when a 1d array was expected. Please change the shape of y to (n_samples,), for example using ravel().\n",
      "  return self._fit(X, y)\n",
      "C:\\Users\\ASMAE\\anaconda3\\lib\\site-packages\\sklearn\\neighbors\\_classification.py:179: DataConversionWarning: A column-vector y was passed when a 1d array was expected. Please change the shape of y to (n_samples,), for example using ravel().\n",
      "  return self._fit(X, y)\n"
     ]
    },
    {
     "data": {
      "image/png": "[encoded data removed]",
      "text/plain": [
       "<Figure size 432x288 with 1 Axes>"
      ]
     },
     "metadata": {
      "needs_background": "light"
     },
     "output_type": "display_data"
    }
   ],
   "source": [
    "errors = []\n",
    "for k in range(2,15):\n",
    "#j'ai selectionné 15 au lien de 20 pour minimiser les calculs\n",
    "    \n",
    "    # on doit redéclarer le classifer à chaque itération de la boucle\n",
    "    knn = neighbors.KNeighborsClassifier(k)\n",
    "    errors.append(100*(1 - knn.fit(x_train, y_train).score(x_test, y_test)))\n",
    "    \n",
    "plt.plot(range(2,15), errors, 'o-')\n",
    "plt.show()"
   ]
  },
  {
   "cell_type": "code",
   "execution_count": 45,
   "id": "29c8e54d",
   "metadata": {},
   "outputs": [
    {
     "name": "stdout",
     "output_type": "stream",
     "text": [
      "Erreur :0.344156\n",
      "Erreur :0.298701\n",
      "Erreur :0.292208\n",
      "Erreur :0.292208\n",
      "Erreur :0.272727\n",
      "Erreur :0.253247\n",
      "Erreur :0.246753\n",
      "Erreur :0.266234\n",
      "Erreur :0.266234\n",
      "Erreur :0.246753\n",
      "Erreur :0.266234\n",
      "Erreur :0.253247\n"
     ]
    },
    {
     "name": "stderr",
     "output_type": "stream",
     "text": [
      "C:\\Users\\ASMAE\\anaconda3\\lib\\site-packages\\sklearn\\neighbors\\_classification.py:179: DataConversionWarning: A column-vector y was passed when a 1d array was expected. Please change the shape of y to (n_samples,), for example using ravel().\n",
      "  return self._fit(X, y)\n",
      "C:\\Users\\ASMAE\\anaconda3\\lib\\site-packages\\sklearn\\neighbors\\_classification.py:179: DataConversionWarning: A column-vector y was passed when a 1d array was expected. Please change the shape of y to (n_samples,), for example using ravel().\n",
      "  return self._fit(X, y)\n",
      "C:\\Users\\ASMAE\\anaconda3\\lib\\site-packages\\sklearn\\neighbors\\_classification.py:179: DataConversionWarning: A column-vector y was passed when a 1d array was expected. Please change the shape of y to (n_samples,), for example using ravel().\n",
      "  return self._fit(X, y)\n",
      "C:\\Users\\ASMAE\\anaconda3\\lib\\site-packages\\sklearn\\neighbors\\_classification.py:179: DataConversionWarning: A column-vector y was passed when a 1d array was expected. Please change the shape of y to (n_samples,), for example using ravel().\n",
      "  return self._fit(X, y)\n",
      "C:\\Users\\ASMAE\\anaconda3\\lib\\site-packages\\sklearn\\neighbors\\_classification.py:179: DataConversionWarning: A column-vector y was passed when a 1d array was expected. Please change the shape of y to (n_samples,), for example using ravel().\n",
      "  return self._fit(X, y)\n",
      "C:\\Users\\ASMAE\\anaconda3\\lib\\site-packages\\sklearn\\neighbors\\_classification.py:179: DataConversionWarning: A column-vector y was passed when a 1d array was expected. Please change the shape of y to (n_samples,), for example using ravel().\n",
      "  return self._fit(X, y)\n",
      "C:\\Users\\ASMAE\\anaconda3\\lib\\site-packages\\sklearn\\neighbors\\_classification.py:179: DataConversionWarning: A column-vector y was passed when a 1d array was expected. Please change the shape of y to (n_samples,), for example using ravel().\n",
      "  return self._fit(X, y)\n",
      "C:\\Users\\ASMAE\\anaconda3\\lib\\site-packages\\sklearn\\neighbors\\_classification.py:179: DataConversionWarning: A column-vector y was passed when a 1d array was expected. Please change the shape of y to (n_samples,), for example using ravel().\n",
      "  return self._fit(X, y)\n",
      "C:\\Users\\ASMAE\\anaconda3\\lib\\site-packages\\sklearn\\neighbors\\_classification.py:179: DataConversionWarning: A column-vector y was passed when a 1d array was expected. Please change the shape of y to (n_samples,), for example using ravel().\n",
      "  return self._fit(X, y)\n",
      "C:\\Users\\ASMAE\\anaconda3\\lib\\site-packages\\sklearn\\neighbors\\_classification.py:179: DataConversionWarning: A column-vector y was passed when a 1d array was expected. Please change the shape of y to (n_samples,), for example using ravel().\n",
      "  return self._fit(X, y)\n",
      "C:\\Users\\ASMAE\\anaconda3\\lib\\site-packages\\sklearn\\neighbors\\_classification.py:179: DataConversionWarning: A column-vector y was passed when a 1d array was expected. Please change the shape of y to (n_samples,), for example using ravel().\n",
      "  return self._fit(X, y)\n",
      "C:\\Users\\ASMAE\\anaconda3\\lib\\site-packages\\sklearn\\neighbors\\_classification.py:179: DataConversionWarning: A column-vector y was passed when a 1d array was expected. Please change the shape of y to (n_samples,), for example using ravel().\n",
      "  return self._fit(X, y)\n",
      "C:\\Users\\ASMAE\\anaconda3\\lib\\site-packages\\sklearn\\neighbors\\_classification.py:179: DataConversionWarning: A column-vector y was passed when a 1d array was expected. Please change the shape of y to (n_samples,), for example using ravel().\n",
      "  return self._fit(X, y)\n"
     ]
    },
    {
     "data": {
      "text/plain": [
       "(0.24675324675324672, 9)"
      ]
     },
     "execution_count": 45,
     "metadata": {},
     "output_type": "execute_result"
    }
   ],
   "source": [
    "#calculer les erreurs pour trouver le  meilleur k \n",
    "knn = neighbors.KNeighborsClassifier(n_neighbors = 2)\n",
    "knn.fit(x_train,y_train)\n",
    "\n",
    "error = 1-knn.score(x_test,y_test)\n",
    "min = error\n",
    "#On stocke la 1 ére erreur dans le min\n",
    "\n",
    "for i in range (3,15):\n",
    "    knn = neighbors.KNeighborsClassifier(n_neighbors = i)\n",
    "    knn.fit(x_train,y_train)\n",
    "    error = 1- knn.score(x_test,y_test)\n",
    "    if (min > error) :\n",
    "        min=error\n",
    "        k=i\n",
    "    print('Erreur :%f' % error)\n",
    "min,k"
   ]
  },
  {
   "cell_type": "markdown",
   "id": "b6488ec5",
   "metadata": {},
   "source": [
    "### Matrice de confusion"
   ]
  },
  {
   "cell_type": "code",
   "execution_count": 46,
   "id": "94b04788",
   "metadata": {},
   "outputs": [
    {
     "data": {
      "text/plain": [
       "array([1, 0, 0, 0, 0, 0, 0, 0, 0, 1, 0, 1, 1, 0, 1, 0, 0, 0, 0, 0, 1, 0,\n",
       "       0, 0, 0, 1, 0, 0, 0, 0, 0, 0, 0, 1, 0, 1, 1, 0, 0, 0, 0, 0, 0, 0,\n",
       "       0, 0, 0, 0, 0, 0, 1, 1, 0, 0, 1, 0, 0, 0, 0, 1, 1, 0, 0, 0, 1, 0,\n",
       "       0, 0, 0, 0, 0, 0, 0, 1, 0, 0, 0, 1, 0, 0, 0, 1, 0, 0, 0, 0, 1, 0,\n",
       "       1, 0, 0, 1, 1, 0, 0, 0, 1, 1, 0, 0, 1, 1, 1, 0, 0, 0, 0, 0, 1, 0,\n",
       "       0, 1, 0, 0, 0, 0, 0, 1, 0, 0, 1, 1, 0, 1, 0, 0, 0, 0, 0, 0, 0, 0,\n",
       "       0, 0, 0, 0, 0, 1, 1, 1, 0, 0, 1, 1, 0, 0, 0, 1, 1, 0, 0, 1, 0, 1],\n",
       "      dtype=int64)"
      ]
     },
     "execution_count": 46,
     "metadata": {},
     "output_type": "execute_result"
    }
   ],
   "source": [
    "y_predKNN = knn.predict(x_test)\n",
    "y_predKNN"
   ]
  },
  {
   "cell_type": "code",
   "execution_count": 47,
   "id": "a1d107f2",
   "metadata": {},
   "outputs": [
    {
     "data": {
      "text/plain": [
       "array([[85, 13],\n",
       "       [26, 30]], dtype=int64)"
      ]
     },
     "execution_count": 47,
     "metadata": {},
     "output_type": "execute_result"
    }
   ],
   "source": [
    "cm = confusion_matrix(y_test, y_predKNN)\n",
    "cm"
   ]
  },
  {
   "cell_type": "code",
   "execution_count": 48,
   "id": "3ac9d6c2",
   "metadata": {},
   "outputs": [
    {
     "data": {
      "text/plain": [
       "Text(42.0, 0.5, 'Truth')"
      ]
     },
     "execution_count": 48,
     "metadata": {},
     "output_type": "execute_result"
    },
    {
     "data": {
      "image/png": "[encoded data removed]",
      "text/plain": [
       "<Figure size 504x360 with 2 Axes>"
      ]
     },
     "metadata": {
      "needs_background": "light"
     },
     "output_type": "display_data"
    }
   ],
   "source": [
    "plt.figure(figsize=(7,5))\n",
    "sn.heatmap(cm, annot=True)\n",
    "plt.xlabel('Predicted')\n",
    "plt.ylabel('Truth')"
   ]
  },
  {
   "cell_type": "markdown",
   "id": "858022ce",
   "metadata": {},
   "source": [
    "#### Les mesures"
   ]
  },
  {
   "cell_type": "code",
   "execution_count": 49,
   "id": "2a877fe2",
   "metadata": {},
   "outputs": [
    {
     "data": {
      "text/plain": [
       "0.7467532467532467"
      ]
     },
     "execution_count": 49,
     "metadata": {},
     "output_type": "execute_result"
    }
   ],
   "source": [
    "accuracy = metrics.accuracy_score(y_test,y_predKNN)\n",
    "accuracy"
   ]
  },
  {
   "cell_type": "code",
   "execution_count": 50,
   "id": "4dd9dc21",
   "metadata": {},
   "outputs": [
    {
     "data": {
      "text/plain": [
       "0.5357142857142857"
      ]
     },
     "execution_count": 50,
     "metadata": {},
     "output_type": "execute_result"
    }
   ],
   "source": [
    "rappel = metrics.recall_score(y_test,y_predKNN)\n",
    "rappel"
   ]
  },
  {
   "cell_type": "code",
   "execution_count": 51,
   "id": "50938f57",
   "metadata": {},
   "outputs": [
    {
     "data": {
      "text/plain": [
       "0.6976744186046512"
      ]
     },
     "execution_count": 51,
     "metadata": {},
     "output_type": "execute_result"
    }
   ],
   "source": [
    "#La précision\n",
    "precision = metrics.precision_score(y_test,y_predKNN)\n",
    "precision"
   ]
  },
  {
   "cell_type": "code",
   "execution_count": 52,
   "id": "e49aa378",
   "metadata": {},
   "outputs": [
    {
     "name": "stdout",
     "output_type": "stream",
     "text": [
      "Erreur: 0.253247\n"
     ]
    }
   ],
   "source": [
    "error = 1 - knn.score(x_test, y_test)\n",
    "print('Erreur: %f' % error)"
   ]
  },
  {
   "cell_type": "markdown",
   "id": "1832055f",
   "metadata": {},
   "source": [
    "## 4.Modèle SVM"
   ]
  },
  {
   "cell_type": "code",
   "execution_count": 54,
   "id": "4219a5f5",
   "metadata": {},
   "outputs": [
    {
     "name": "stderr",
     "output_type": "stream",
     "text": [
      "C:\\Users\\ASMAE\\anaconda3\\lib\\site-packages\\sklearn\\utils\\validation.py:63: DataConversionWarning: A column-vector y was passed when a 1d array was expected. Please change the shape of y to (n_samples, ), for example using ravel().\n",
      "  return f(*args, **kwargs)\n"
     ]
    },
    {
     "data": {
      "text/plain": [
       "SVC(kernel='poly', random_state=0)"
      ]
     },
     "execution_count": 54,
     "metadata": {},
     "output_type": "execute_result"
    }
   ],
   "source": [
    "SVM = SVC (kernel = 'poly', random_state = 0)\n",
    "SVM.fit(x_train,y_train)"
   ]
  },
  {
   "cell_type": "markdown",
   "id": "e8770cd6",
   "metadata": {},
   "source": [
    "#### Matrice de confusion"
   ]
  },
  {
   "cell_type": "code",
   "execution_count": 55,
   "id": "aafd2548",
   "metadata": {},
   "outputs": [],
   "source": [
    "y_pred_SVM = SVM.predict(x_test)"
   ]
  },
  {
   "cell_type": "code",
   "execution_count": 56,
   "id": "7e0f61ae",
   "metadata": {},
   "outputs": [
    {
     "data": {
      "text/plain": [
       "array([[89,  9],\n",
       "       [31, 25]], dtype=int64)"
      ]
     },
     "execution_count": 56,
     "metadata": {},
     "output_type": "execute_result"
    }
   ],
   "source": [
    "cm_SVM = confusion_matrix(y_test, y_pred_SVM)\n",
    "cm_SVM"
   ]
  },
  {
   "cell_type": "code",
   "execution_count": 57,
   "id": "c5ae4736",
   "metadata": {},
   "outputs": [
    {
     "data": {
      "text/plain": [
       "Text(42.0, 0.5, 'Truth')"
      ]
     },
     "execution_count": 57,
     "metadata": {},
     "output_type": "execute_result"
    },
    {
     "data": {
      "image/png": "[encoded data removed]",
      "text/plain": [
       "<Figure size 504x360 with 2 Axes>"
      ]
     },
     "metadata": {
      "needs_background": "light"
     },
     "output_type": "display_data"
    }
   ],
   "source": [
    "plt.figure(figsize=(7,5))\n",
    "sn.heatmap(cm_SVM, annot=True)\n",
    "plt.xlabel('Predicted')\n",
    "plt.ylabel('Truth')"
   ]
  },
  {
   "cell_type": "markdown",
   "id": "ad146926",
   "metadata": {},
   "source": [
    "#### Les mesures"
   ]
  },
  {
   "cell_type": "code",
   "execution_count": 58,
   "id": "9e8b768b",
   "metadata": {},
   "outputs": [
    {
     "data": {
      "text/plain": [
       "0.7402597402597403"
      ]
     },
     "execution_count": 58,
     "metadata": {},
     "output_type": "execute_result"
    }
   ],
   "source": [
    "accuracy = metrics.accuracy_score(y_test,y_pred_SVM)\n",
    "accuracy"
   ]
  },
  {
   "cell_type": "code",
   "execution_count": 59,
   "id": "94414cee",
   "metadata": {},
   "outputs": [
    {
     "data": {
      "text/plain": [
       "0.44642857142857145"
      ]
     },
     "execution_count": 59,
     "metadata": {},
     "output_type": "execute_result"
    }
   ],
   "source": [
    "rappel = metrics.recall_score(y_test,y_pred_SVM)\n",
    "rappel"
   ]
  },
  {
   "cell_type": "code",
   "execution_count": 60,
   "id": "aa732488",
   "metadata": {},
   "outputs": [
    {
     "data": {
      "text/plain": [
       "0.7352941176470589"
      ]
     },
     "execution_count": 60,
     "metadata": {},
     "output_type": "execute_result"
    }
   ],
   "source": [
    "#La précision\n",
    "precision = metrics.precision_score(y_test,y_pred_SVM)\n",
    "precision"
   ]
  },
  {
   "cell_type": "code",
   "execution_count": 61,
   "id": "32c51dc3",
   "metadata": {},
   "outputs": [
    {
     "name": "stdout",
     "output_type": "stream",
     "text": [
      "Erreur: 0.259740\n"
     ]
    }
   ],
   "source": [
    "error = 1 - SVM.score(x_test, y_test)\n",
    "print('Erreur: %f' % error)"
   ]
  },
  {
   "cell_type": "markdown",
   "id": "543d51a7",
   "metadata": {},
   "source": [
    "## 5.Modèle Random Forest"
   ]
  },
  {
   "cell_type": "code",
   "execution_count": 62,
   "id": "4a4d04aa",
   "metadata": {},
   "outputs": [
    {
     "name": "stdout",
     "output_type": "stream",
     "text": [
      "Erreur :0.227273\n",
      "Erreur :0.240260\n",
      "Erreur :0.331169\n",
      "Erreur :0.292208\n",
      "Erreur :0.305195\n",
      "Erreur :0.305195\n",
      "Erreur :0.331169\n",
      "Erreur :0.331169\n",
      "Erreur :0.357143\n",
      "Erreur :0.350649\n",
      "Erreur :0.344156\n",
      "Erreur :0.337662\n",
      "Erreur :0.344156\n",
      "Erreur :0.331169\n",
      "Erreur :0.350649\n",
      "Erreur :0.337662\n",
      "Erreur :0.350649\n",
      "Erreur :0.324675\n"
     ]
    },
    {
     "data": {
      "text/plain": [
       "(0.2272727272727273, 2)"
      ]
     },
     "execution_count": 62,
     "metadata": {},
     "output_type": "execute_result"
    }
   ],
   "source": [
    "#calculer les erreurs pour trouver le  meilleur k \n",
    "clf = DecisionTreeClassifier(max_depth=1)\n",
    "clf.fit(x_train,y_train)\n",
    "\n",
    "error = 1-clf.score(x_test,y_test)\n",
    "min= error\n",
    "#On stocke la 1 ére erreur dans le min\n",
    "\n",
    "for i in range (2,20):\n",
    "    clf = DecisionTreeClassifier(max_depth=i)\n",
    "    clf.fit(x_train,y_train)\n",
    "    error = 1- clf.score(x_test,y_test)\n",
    "    if (min > error) :\n",
    "        min=error\n",
    "        k=i\n",
    "    print('Erreur :%f' % error)\n",
    "min,k"
   ]
  },
  {
   "cell_type": "code",
   "execution_count": 63,
   "id": "c35ca049",
   "metadata": {},
   "outputs": [
    {
     "data": {
      "text/plain": [
       "DecisionTreeClassifier(max_depth=2)"
      ]
     },
     "execution_count": 63,
     "metadata": {},
     "output_type": "execute_result"
    }
   ],
   "source": [
    "clf = DecisionTreeClassifier(max_depth=k)\n",
    "clf.fit(x_train, y_train)"
   ]
  },
  {
   "cell_type": "code",
   "execution_count": 64,
   "id": "9f39807e",
   "metadata": {},
   "outputs": [
    {
     "data": {
      "image/png": "[encoded data removed]",
      "text/plain": [
       "<Figure size 1800x1440 with 1 Axes>"
      ]
     },
     "metadata": {
      "needs_background": "light"
     },
     "output_type": "display_data"
    }
   ],
   "source": [
    "fig = plt.figure(figsize=(25,20))\n",
    "_ = tree.plot_tree(clf, feature_names=('Pregnancies','Glucose','BloodPressure','SkinThickness','Insulin',\n",
    "                   'BMI','DiabetesPedigreeFunction','Age')\n",
    "                   \n",
    "                   ,  class_names='Outcome',filled=True)"
   ]
  },
  {
   "cell_type": "markdown",
   "id": "84d9ff61",
   "metadata": {},
   "source": [
    "#### Les mesures"
   ]
  },
  {
   "cell_type": "code",
   "execution_count": 65,
   "id": "40d5eaff",
   "metadata": {},
   "outputs": [
    {
     "data": {
      "text/plain": [
       "array([1, 1, 0, 0, 0, 0, 0, 0, 0, 0, 0, 0, 0, 0, 1, 0, 0, 0, 0, 1, 1, 0,\n",
       "       0, 0, 0, 1, 0, 1, 0, 0, 0, 0, 1, 1, 0, 0, 1, 0, 0, 0, 0, 1, 0, 0,\n",
       "       1, 0, 1, 1, 0, 0, 0, 1, 0, 0, 0, 0, 0, 1, 0, 1, 0, 0, 0, 0, 0, 1,\n",
       "       0, 0, 0, 0, 1, 0, 0, 1, 0, 0, 0, 1, 0, 0, 0, 1, 0, 0, 0, 0, 1, 0,\n",
       "       0, 0, 0, 0, 1, 0, 0, 0, 1, 1, 0, 0, 1, 1, 0, 0, 0, 0, 0, 0, 1, 0,\n",
       "       1, 0, 0, 0, 0, 0, 0, 1, 0, 1, 1, 0, 0, 1, 0, 0, 0, 1, 0, 0, 0, 0,\n",
       "       0, 0, 0, 0, 0, 1, 1, 1, 0, 0, 1, 0, 0, 0, 0, 1, 1, 0, 0, 1, 0, 1],\n",
       "      dtype=int64)"
      ]
     },
     "execution_count": 65,
     "metadata": {},
     "output_type": "execute_result"
    }
   ],
   "source": [
    "y_predRandom = clf.predict(x_test)\n",
    "y_predRandom"
   ]
  },
  {
   "cell_type": "code",
   "execution_count": 66,
   "id": "fe4f3ea7",
   "metadata": {},
   "outputs": [
    {
     "data": {
      "text/plain": [
       "0.7727272727272727"
      ]
     },
     "execution_count": 66,
     "metadata": {},
     "output_type": "execute_result"
    }
   ],
   "source": [
    "accuracy = metrics.accuracy_score(y_test,y_predRandom)\n",
    "accuracy"
   ]
  },
  {
   "cell_type": "code",
   "execution_count": 67,
   "id": "a794dd90",
   "metadata": {},
   "outputs": [
    {
     "data": {
      "text/plain": [
       "0.5714285714285714"
      ]
     },
     "execution_count": 67,
     "metadata": {},
     "output_type": "execute_result"
    }
   ],
   "source": [
    "rappel = metrics.recall_score(y_test,y_predRandom)\n",
    "rappel"
   ]
  },
  {
   "cell_type": "code",
   "execution_count": 68,
   "id": "c18f8db8",
   "metadata": {},
   "outputs": [
    {
     "data": {
      "text/plain": [
       "0.7441860465116279"
      ]
     },
     "execution_count": 68,
     "metadata": {},
     "output_type": "execute_result"
    }
   ],
   "source": [
    "#La précision\n",
    "precision = metrics.precision_score(y_test,y_predRandom)\n",
    "precision"
   ]
  },
  {
   "cell_type": "markdown",
   "id": "cce54b54",
   "metadata": {},
   "source": [
    "### iiii. Cross validations de tous les modèles, avec la moyenne de cross_val_score de chaque modèle pour en tirer le meilleur"
   ]
  },
  {
   "cell_type": "markdown",
   "id": "39b1d64f",
   "metadata": {},
   "source": [
    "### Regression logistique"
   ]
  },
  {
   "cell_type": "code",
   "execution_count": 69,
   "id": "d774184f",
   "metadata": {},
   "outputs": [
    {
     "name": "stderr",
     "output_type": "stream",
     "text": [
      "C:\\Users\\ASMAE\\anaconda3\\lib\\site-packages\\sklearn\\utils\\validation.py:63: DataConversionWarning: A column-vector y was passed when a 1d array was expected. Please change the shape of y to (n_samples, ), for example using ravel().\n",
      "  return f(*args, **kwargs)\n",
      "C:\\Users\\ASMAE\\anaconda3\\lib\\site-packages\\sklearn\\utils\\validation.py:63: DataConversionWarning: A column-vector y was passed when a 1d array was expected. Please change the shape of y to (n_samples, ), for example using ravel().\n",
      "  return f(*args, **kwargs)\n",
      "C:\\Users\\ASMAE\\anaconda3\\lib\\site-packages\\sklearn\\utils\\validation.py:63: DataConversionWarning: A column-vector y was passed when a 1d array was expected. Please change the shape of y to (n_samples, ), for example using ravel().\n",
      "  return f(*args, **kwargs)\n",
      "C:\\Users\\ASMAE\\anaconda3\\lib\\site-packages\\sklearn\\utils\\validation.py:63: DataConversionWarning: A column-vector y was passed when a 1d array was expected. Please change the shape of y to (n_samples, ), for example using ravel().\n",
      "  return f(*args, **kwargs)\n",
      "C:\\Users\\ASMAE\\anaconda3\\lib\\site-packages\\sklearn\\utils\\validation.py:63: DataConversionWarning: A column-vector y was passed when a 1d array was expected. Please change the shape of y to (n_samples, ), for example using ravel().\n",
      "  return f(*args, **kwargs)\n"
     ]
    },
    {
     "data": {
      "text/plain": [
       "array([0.66666667, 0.55284553, 0.43089431, 0.62601626, 0.3442623 ])"
      ]
     },
     "execution_count": 69,
     "metadata": {},
     "output_type": "execute_result"
    }
   ],
   "source": [
    "cross_val_LOG = cross_val_score(logreg,x_train,y_train,cv=5)\n",
    "## cv=5 on parcourt tous le set 5 fois en séparant le test set du train set.\n",
    "cross_val_LOG"
   ]
  },
  {
   "cell_type": "code",
   "execution_count": 70,
   "id": "6fd3d476",
   "metadata": {},
   "outputs": [
    {
     "data": {
      "text/plain": [
       "0.524137011861922"
      ]
     },
     "execution_count": 70,
     "metadata": {},
     "output_type": "execute_result"
    }
   ],
   "source": [
    "cross_val_LOG.mean()"
   ]
  },
  {
   "cell_type": "markdown",
   "id": "ba0590ab",
   "metadata": {},
   "source": [
    "### Regression de Ridge"
   ]
  },
  {
   "cell_type": "code",
   "execution_count": 73,
   "id": "bdf734ac",
   "metadata": {},
   "outputs": [
    {
     "name": "stderr",
     "output_type": "stream",
     "text": [
      "C:\\Users\\ASMAE\\anaconda3\\lib\\site-packages\\sklearn\\utils\\validation.py:63: DataConversionWarning: A column-vector y was passed when a 1d array was expected. Please change the shape of y to (n_samples, ), for example using ravel().\n",
      "  return f(*args, **kwargs)\n",
      "C:\\Users\\ASMAE\\anaconda3\\lib\\site-packages\\sklearn\\utils\\validation.py:63: DataConversionWarning: A column-vector y was passed when a 1d array was expected. Please change the shape of y to (n_samples, ), for example using ravel().\n",
      "  return f(*args, **kwargs)\n",
      "C:\\Users\\ASMAE\\anaconda3\\lib\\site-packages\\sklearn\\utils\\validation.py:63: DataConversionWarning: A column-vector y was passed when a 1d array was expected. Please change the shape of y to (n_samples, ), for example using ravel().\n",
      "  return f(*args, **kwargs)\n",
      "C:\\Users\\ASMAE\\anaconda3\\lib\\site-packages\\sklearn\\utils\\validation.py:63: DataConversionWarning: A column-vector y was passed when a 1d array was expected. Please change the shape of y to (n_samples, ), for example using ravel().\n",
      "  return f(*args, **kwargs)\n",
      "C:\\Users\\ASMAE\\anaconda3\\lib\\site-packages\\sklearn\\utils\\validation.py:63: DataConversionWarning: A column-vector y was passed when a 1d array was expected. Please change the shape of y to (n_samples, ), for example using ravel().\n",
      "  return f(*args, **kwargs)\n"
     ]
    },
    {
     "data": {
      "text/plain": [
       "array([0.78861789, 0.75609756, 0.77235772, 0.7398374 , 0.77868852])"
      ]
     },
     "execution_count": 73,
     "metadata": {},
     "output_type": "execute_result"
    }
   ],
   "source": [
    "cross_val_Ridge = cross_val_score(rc,x_train,y_train,cv=5)\n",
    "## cv=5 on parcourt tous le set 5 fois en séparant le test set du train set.\n",
    "cross_val_Ridge"
   ]
  },
  {
   "cell_type": "code",
   "execution_count": 74,
   "id": "fc1ec67f",
   "metadata": {},
   "outputs": [
    {
     "data": {
      "text/plain": [
       "0.767119818739171"
      ]
     },
     "execution_count": 74,
     "metadata": {},
     "output_type": "execute_result"
    }
   ],
   "source": [
    "cross_val_Ridge.mean()"
   ]
  },
  {
   "cell_type": "code",
   "execution_count": 75,
   "id": "70ee1567",
   "metadata": {},
   "outputs": [
    {
     "name": "stderr",
     "output_type": "stream",
     "text": [
      "C:\\Users\\ASMAE\\anaconda3\\lib\\site-packages\\sklearn\\neighbors\\_classification.py:179: DataConversionWarning: A column-vector y was passed when a 1d array was expected. Please change the shape of y to (n_samples,), for example using ravel().\n",
      "  return self._fit(X, y)\n",
      "C:\\Users\\ASMAE\\anaconda3\\lib\\site-packages\\sklearn\\neighbors\\_classification.py:179: DataConversionWarning: A column-vector y was passed when a 1d array was expected. Please change the shape of y to (n_samples,), for example using ravel().\n",
      "  return self._fit(X, y)\n",
      "C:\\Users\\ASMAE\\anaconda3\\lib\\site-packages\\sklearn\\neighbors\\_classification.py:179: DataConversionWarning: A column-vector y was passed when a 1d array was expected. Please change the shape of y to (n_samples,), for example using ravel().\n",
      "  return self._fit(X, y)\n",
      "C:\\Users\\ASMAE\\anaconda3\\lib\\site-packages\\sklearn\\neighbors\\_classification.py:179: DataConversionWarning: A column-vector y was passed when a 1d array was expected. Please change the shape of y to (n_samples,), for example using ravel().\n",
      "  return self._fit(X, y)\n",
      "C:\\Users\\ASMAE\\anaconda3\\lib\\site-packages\\sklearn\\neighbors\\_classification.py:179: DataConversionWarning: A column-vector y was passed when a 1d array was expected. Please change the shape of y to (n_samples,), for example using ravel().\n",
      "  return self._fit(X, y)\n"
     ]
    },
    {
     "data": {
      "text/plain": [
       "array([0.76422764, 0.71544715, 0.81300813, 0.72357724, 0.77868852])"
      ]
     },
     "execution_count": 75,
     "metadata": {},
     "output_type": "execute_result"
    }
   ],
   "source": [
    "cross_val_KNN = cross_val_score(knn,x_train,y_train,cv=5)\n",
    "## cv=5 on parcourt tous le set 5 fois en séparant le test set du train set.\n",
    "cross_val_KNN"
   ]
  },
  {
   "cell_type": "code",
   "execution_count": 76,
   "id": "cbe7bf46",
   "metadata": {},
   "outputs": [
    {
     "data": {
      "text/plain": [
       "0.7589897374383581"
      ]
     },
     "execution_count": 76,
     "metadata": {},
     "output_type": "execute_result"
    }
   ],
   "source": [
    "cross_val_KNN.mean()"
   ]
  },
  {
   "cell_type": "markdown",
   "id": "9c72049c",
   "metadata": {},
   "source": [
    "### Modèle SVM"
   ]
  },
  {
   "cell_type": "code",
   "execution_count": 77,
   "id": "839d387a",
   "metadata": {},
   "outputs": [
    {
     "name": "stderr",
     "output_type": "stream",
     "text": [
      "C:\\Users\\ASMAE\\anaconda3\\lib\\site-packages\\sklearn\\utils\\validation.py:63: DataConversionWarning: A column-vector y was passed when a 1d array was expected. Please change the shape of y to (n_samples, ), for example using ravel().\n",
      "  return f(*args, **kwargs)\n",
      "C:\\Users\\ASMAE\\anaconda3\\lib\\site-packages\\sklearn\\utils\\validation.py:63: DataConversionWarning: A column-vector y was passed when a 1d array was expected. Please change the shape of y to (n_samples, ), for example using ravel().\n",
      "  return f(*args, **kwargs)\n",
      "C:\\Users\\ASMAE\\anaconda3\\lib\\site-packages\\sklearn\\utils\\validation.py:63: DataConversionWarning: A column-vector y was passed when a 1d array was expected. Please change the shape of y to (n_samples, ), for example using ravel().\n",
      "  return f(*args, **kwargs)\n",
      "C:\\Users\\ASMAE\\anaconda3\\lib\\site-packages\\sklearn\\utils\\validation.py:63: DataConversionWarning: A column-vector y was passed when a 1d array was expected. Please change the shape of y to (n_samples, ), for example using ravel().\n",
      "  return f(*args, **kwargs)\n",
      "C:\\Users\\ASMAE\\anaconda3\\lib\\site-packages\\sklearn\\utils\\validation.py:63: DataConversionWarning: A column-vector y was passed when a 1d array was expected. Please change the shape of y to (n_samples, ), for example using ravel().\n",
      "  return f(*args, **kwargs)\n"
     ]
    },
    {
     "data": {
      "text/plain": [
       "array([0.77235772, 0.7398374 , 0.75609756, 0.77235772, 0.78688525])"
      ]
     },
     "execution_count": 77,
     "metadata": {},
     "output_type": "execute_result"
    }
   ],
   "source": [
    "cross_val_SVM = cross_val_score(SVM,x_train,y_train,cv=5)\n",
    "## cv=5 on parcourt tous le set 5 fois en séparant le test set du train set.\n",
    "cross_val_SVM"
   ]
  },
  {
   "cell_type": "code",
   "execution_count": 78,
   "id": "2c7d5c0b",
   "metadata": {},
   "outputs": [
    {
     "data": {
      "text/plain": [
       "0.7655071304811409"
      ]
     },
     "execution_count": 78,
     "metadata": {},
     "output_type": "execute_result"
    }
   ],
   "source": [
    "cross_val_SVM.mean()"
   ]
  },
  {
   "cell_type": "markdown",
   "id": "7516ff15",
   "metadata": {},
   "source": [
    "### Modèle Random Forest"
   ]
  },
  {
   "cell_type": "code",
   "execution_count": 79,
   "id": "94fc3ec0",
   "metadata": {},
   "outputs": [
    {
     "data": {
      "text/plain": [
       "array([0.7804878 , 0.72357724, 0.75609756, 0.71544715, 0.79508197])"
      ]
     },
     "execution_count": 79,
     "metadata": {},
     "output_type": "execute_result"
    }
   ],
   "source": [
    "cross_val_Random = cross_val_score(clf,x_train,y_train,cv=5)\n",
    "## cv=5 on parcourt tous le set 5 fois en séparant le test set du train set.\n",
    "cross_val_Random"
   ]
  },
  {
   "cell_type": "code",
   "execution_count": 80,
   "id": "65c4779f",
   "metadata": {},
   "outputs": [
    {
     "data": {
      "text/plain": [
       "0.7541383446621351"
      ]
     },
     "execution_count": 80,
     "metadata": {},
     "output_type": "execute_result"
    }
   ],
   "source": [
    "cross_val_Random.mean()"
   ]
  },
  {
   "cell_type": "markdown",
   "id": "bde31221",
   "metadata": {},
   "source": [
    "#### la validation croisée calcule la précision de chaque croisement jusqu'a cv=5, puis en calculant la moyenne on obtient la meilleure précision"
   ]
  },
  {
   "cell_type": "markdown",
   "id": "2a2b49e8",
   "metadata": {},
   "source": [
    "## Courbe de ROC des 4 modèles utilisés : "
   ]
  },
  {
   "cell_type": "code",
   "execution_count": 81,
   "id": "5f72982b",
   "metadata": {},
   "outputs": [],
   "source": [
    "fprK, tprK, thrK = metrics.roc_curve(y_test, y_predKNN)\n",
    "fprLog, tprLog, thrLog = metrics.roc_curve(y_test, y_pred)\n",
    "fprR, tprR, thrR = metrics.roc_curve(y_test, y_predRandom)\n",
    "fprSVM,tprSVM,thRSVM = metrics.roc_curve(y_test,y_pred_SVM)"
   ]
  },
  {
   "cell_type": "code",
   "execution_count": 82,
   "id": "a61991db",
   "metadata": {},
   "outputs": [
    {
     "data": {
      "text/plain": [
       "<Figure size 864x864 with 0 Axes>"
      ]
     },
     "metadata": {},
     "output_type": "display_data"
    }
   ],
   "source": [
    "fig = plt.figure(figsize=(12, 12))"
   ]
  },
  {
   "cell_type": "code",
   "execution_count": 83,
   "id": "9501237c",
   "metadata": {},
   "outputs": [],
   "source": [
    "# auc represente combien d'espace reste sous la courbe de chaque modèle \n",
    "aucLog =  metrics.auc(fprLog, tprLog)\n",
    "aucK =  metrics.auc(fprK, tprK)\n",
    "aucR =  metrics.auc(fprR, tprR)\n",
    "aucSVM = metrics.auc(fprSVM,tprSVM)"
   ]
  },
  {
   "cell_type": "code",
   "execution_count": 84,
   "id": "8e3fca97",
   "metadata": {},
   "outputs": [
    {
     "data": {
      "image/png": "[encoded data removed]",
      "text/plain": [
       "<Figure size 432x288 with 1 Axes>"
      ]
     },
     "metadata": {
      "needs_background": "light"
     },
     "output_type": "display_data"
    }
   ],
   "source": [
    "plt.plot(fprK, tprK, '-', lw=2, label='KNN,gamma=0.01, AUC=%.2f' % aucK)\n",
    "plt.plot(fprLog, tprLog, '-', lw=2, label='Logistique,gamma=0.01, AUC=%.2f' % aucLog)\n",
    "plt.plot(fprR, tprR, '-', lw=2, label='Random,gamma=0.01, AUC=%.2f' % aucR)\n",
    "plt.plot(fprSVM, tprSVM, '-', lw=2, label='SVM,gamma=0.01, AUC=%.2f' % aucSVM)\n",
    "\n",
    "plt.xlabel('False Positive Rate', fontsize=16)\n",
    "plt.ylabel('True Positive Rate', fontsize=16)\n",
    "plt.title('ROC Curve for our 4 models', fontsize=16)\n",
    "plt.legend(loc=\"lower right\", fontsize=10)\n",
    "plt.show()"
   ]
  },
  {
   "cell_type": "markdown",
   "id": "fea97988",
   "metadata": {},
   "source": [
    "# Partie 2 : Deep Learning (les réseaux de neurones)"
   ]
  },
  {
   "cell_type": "markdown",
   "id": "41cb7958",
   "metadata": {},
   "source": [
    "#### Introduction : avant de commencer à entrer nos couches, on doit d'abord, nettoyer notre dataset, et extraire juste nos entrées, et enlever les variables qui ne sont pas numériques, afin de normaliser nos données et du coup ne pas impacter nos résultats finaux, cette étape de nettoyage, on l'a deja fait auparavant dans la 1 ére partie"
   ]
  },
  {
   "cell_type": "code",
   "execution_count": null,
   "id": "c14b7c81",
   "metadata": {},
   "outputs": [],
   "source": [
    "for i in range(1,4):\n",
    "    mymodel = keras.Sequential([\n",
    "    layers.Dense(100, activation = 'sigmoid', input_shape = [x_train.shape[1]]),\n",
    "    layers.Dropout(0.3, seed = 2),\n",
    "    layers.Dense(90, activation = 'sigmoid'),  \n",
    "    layers.Dense(70, activation = 'relu'),  \n",
    "    layers.Dense(40, activation = 'sigmoid'),  \n",
    "    layers.Dense(20, activation = 'relu'),\n",
    "    layers.Dense(12, activation = 'relu'),  \n",
    "    layers.Dense(10, activation = 'sigmoid'),  \n",
    "    layers.Dense(9, activation = 'relu'),\n",
    "    layers.Dense(4, activation = 'relu'),  \n",
    "    layers.Dense(2, activation = 'sigmoid'),  \n",
    "   \n",
    "    layers.Dense(1)])\n",
    "    \n",
    "    mymodel.compile(loss ='binary_crossentropy', optimizer = 'adam',metrics = ['accuracy'])\n",
    "    history2 = mymodel.fit(x_train, y_train, validation_split=0.20, epochs=90, verbose=2)\n",
    "    score = mymodel.evaluate( x_test, y_test, verbose = 2)\n",
    "    print(score)\n",
    "    print(i)\n",
    "    if( score[1]>score[0] and score[1]>=0.70):\n",
    "        break"
   ]
  },
  {
   "cell_type": "code",
   "execution_count": 85,
   "id": "32684a58",
   "metadata": {},
   "outputs": [
    {
     "name": "stdout",
     "output_type": "stream",
     "text": [
      "5/5 [==============================] - 0s 2ms/step - loss: 0.4967 - accuracy: 0.7922\n",
      "Epoch 1/90\n",
      "16/16 - 1s - loss: 0.5382 - accuracy: 0.7434 - val_loss: 0.4999 - val_accuracy: 0.7724 - 616ms/epoch - 38ms/step\n",
      "Epoch 2/90\n",
      "16/16 - 0s - loss: 0.5265 - accuracy: 0.7536 - val_loss: 0.5556 - val_accuracy: 0.7561 - 61ms/epoch - 4ms/step\n",
      "Epoch 3/90\n",
      "16/16 - 0s - loss: 0.5300 - accuracy: 0.7393 - val_loss: 0.5012 - val_accuracy: 0.7398 - 55ms/epoch - 3ms/step\n",
      "Epoch 4/90\n",
      "16/16 - 0s - loss: 0.5279 - accuracy: 0.7393 - val_loss: 0.5349 - val_accuracy: 0.7561 - 67ms/epoch - 4ms/step\n",
      "Epoch 5/90\n",
      "16/16 - 0s - loss: 0.5254 - accuracy: 0.7475 - val_loss: 0.5262 - val_accuracy: 0.7642 - 65ms/epoch - 4ms/step\n",
      "Epoch 6/90\n",
      "16/16 - 0s - loss: 0.5027 - accuracy: 0.7495 - val_loss: 0.5370 - val_accuracy: 0.7317 - 58ms/epoch - 4ms/step\n",
      "Epoch 7/90\n",
      "16/16 - 0s - loss: 0.5180 - accuracy: 0.7454 - val_loss: 0.5156 - val_accuracy: 0.7724 - 60ms/epoch - 4ms/step\n",
      "Epoch 8/90\n",
      "16/16 - 0s - loss: 0.4925 - accuracy: 0.7658 - val_loss: 0.5134 - val_accuracy: 0.7561 - 56ms/epoch - 3ms/step\n",
      "Epoch 9/90\n",
      "16/16 - 0s - loss: 0.5232 - accuracy: 0.7434 - val_loss: 0.5202 - val_accuracy: 0.7398 - 66ms/epoch - 4ms/step\n",
      "Epoch 10/90\n",
      "16/16 - 0s - loss: 0.5367 - accuracy: 0.7230 - val_loss: 0.5534 - val_accuracy: 0.7398 - 59ms/epoch - 4ms/step\n",
      "Epoch 11/90\n",
      "16/16 - 0s - loss: 0.5341 - accuracy: 0.7454 - val_loss: 0.5540 - val_accuracy: 0.6992 - 53ms/epoch - 3ms/step\n",
      "Epoch 12/90\n",
      "16/16 - 0s - loss: 0.5285 - accuracy: 0.7291 - val_loss: 0.5532 - val_accuracy: 0.7236 - 55ms/epoch - 3ms/step\n",
      "Epoch 13/90\n",
      "16/16 - 0s - loss: 0.5032 - accuracy: 0.7556 - val_loss: 0.5270 - val_accuracy: 0.7561 - 72ms/epoch - 4ms/step\n",
      "Epoch 14/90\n",
      "16/16 - 0s - loss: 0.5077 - accuracy: 0.7434 - val_loss: 0.5202 - val_accuracy: 0.6992 - 60ms/epoch - 4ms/step\n",
      "Epoch 15/90\n",
      "16/16 - 0s - loss: 0.4998 - accuracy: 0.7393 - val_loss: 0.5347 - val_accuracy: 0.7642 - 59ms/epoch - 4ms/step\n",
      "Epoch 16/90\n",
      "16/16 - 0s - loss: 0.5020 - accuracy: 0.7515 - val_loss: 0.5320 - val_accuracy: 0.7805 - 55ms/epoch - 3ms/step\n",
      "Epoch 17/90\n",
      "16/16 - 0s - loss: 0.5218 - accuracy: 0.7251 - val_loss: 0.5145 - val_accuracy: 0.7317 - 63ms/epoch - 4ms/step\n",
      "Epoch 18/90\n",
      "16/16 - 0s - loss: 0.5063 - accuracy: 0.7576 - val_loss: 0.5003 - val_accuracy: 0.7724 - 65ms/epoch - 4ms/step\n",
      "Epoch 19/90\n",
      "16/16 - 0s - loss: 0.4893 - accuracy: 0.7413 - val_loss: 0.5063 - val_accuracy: 0.7561 - 53ms/epoch - 3ms/step\n",
      "Epoch 20/90\n",
      "16/16 - 0s - loss: 0.4939 - accuracy: 0.7495 - val_loss: 0.5496 - val_accuracy: 0.7561 - 50ms/epoch - 3ms/step\n",
      "Epoch 21/90\n",
      "16/16 - 0s - loss: 0.5106 - accuracy: 0.7312 - val_loss: 0.4947 - val_accuracy: 0.7805 - 61ms/epoch - 4ms/step\n",
      "Epoch 22/90\n",
      "16/16 - 0s - loss: 0.4706 - accuracy: 0.7862 - val_loss: 0.5233 - val_accuracy: 0.7642 - 57ms/epoch - 4ms/step\n",
      "Epoch 23/90\n",
      "16/16 - 0s - loss: 0.4986 - accuracy: 0.7454 - val_loss: 0.5025 - val_accuracy: 0.7642 - 57ms/epoch - 4ms/step\n",
      "Epoch 24/90\n",
      "16/16 - 0s - loss: 0.4980 - accuracy: 0.7291 - val_loss: 0.5174 - val_accuracy: 0.7480 - 69ms/epoch - 4ms/step\n",
      "Epoch 25/90\n",
      "16/16 - 0s - loss: 0.5009 - accuracy: 0.7495 - val_loss: 0.5506 - val_accuracy: 0.7236 - 50ms/epoch - 3ms/step\n",
      "Epoch 26/90\n",
      "16/16 - 0s - loss: 0.4938 - accuracy: 0.7678 - val_loss: 0.5411 - val_accuracy: 0.7317 - 57ms/epoch - 4ms/step\n",
      "Epoch 27/90\n",
      "16/16 - 0s - loss: 0.4892 - accuracy: 0.7658 - val_loss: 0.5325 - val_accuracy: 0.7642 - 60ms/epoch - 4ms/step\n",
      "Epoch 28/90\n",
      "16/16 - 0s - loss: 0.4831 - accuracy: 0.7739 - val_loss: 0.4826 - val_accuracy: 0.7642 - 62ms/epoch - 4ms/step\n",
      "Epoch 29/90\n",
      "16/16 - 0s - loss: 0.4860 - accuracy: 0.7352 - val_loss: 0.5443 - val_accuracy: 0.6829 - 61ms/epoch - 4ms/step\n",
      "Epoch 30/90\n",
      "16/16 - 0s - loss: 0.4777 - accuracy: 0.7862 - val_loss: 0.4920 - val_accuracy: 0.7724 - 63ms/epoch - 4ms/step\n",
      "Epoch 31/90\n",
      "16/16 - 0s - loss: 0.4771 - accuracy: 0.7800 - val_loss: 0.4706 - val_accuracy: 0.7886 - 62ms/epoch - 4ms/step\n",
      "Epoch 32/90\n",
      "16/16 - 0s - loss: 0.4724 - accuracy: 0.7719 - val_loss: 0.4616 - val_accuracy: 0.8130 - 53ms/epoch - 3ms/step\n",
      "Epoch 33/90\n",
      "16/16 - 0s - loss: 0.4652 - accuracy: 0.7699 - val_loss: 0.4813 - val_accuracy: 0.7724 - 54ms/epoch - 3ms/step\n",
      "Epoch 34/90\n",
      "16/16 - 0s - loss: 0.4796 - accuracy: 0.7780 - val_loss: 0.4729 - val_accuracy: 0.7561 - 59ms/epoch - 4ms/step\n",
      "Epoch 35/90\n",
      "16/16 - 0s - loss: 0.5072 - accuracy: 0.7515 - val_loss: 0.4902 - val_accuracy: 0.7642 - 56ms/epoch - 4ms/step\n",
      "Epoch 36/90\n",
      "16/16 - 0s - loss: 0.5090 - accuracy: 0.7658 - val_loss: 0.5493 - val_accuracy: 0.7236 - 56ms/epoch - 3ms/step\n",
      "Epoch 37/90\n",
      "16/16 - 0s - loss: 0.5093 - accuracy: 0.7780 - val_loss: 0.5100 - val_accuracy: 0.7480 - 52ms/epoch - 3ms/step\n",
      "Epoch 38/90\n",
      "16/16 - 0s - loss: 0.4885 - accuracy: 0.7637 - val_loss: 0.5767 - val_accuracy: 0.7236 - 57ms/epoch - 4ms/step\n",
      "Epoch 39/90\n",
      "16/16 - 0s - loss: 0.4657 - accuracy: 0.7800 - val_loss: 0.4668 - val_accuracy: 0.8049 - 53ms/epoch - 3ms/step\n",
      "Epoch 40/90\n",
      "16/16 - 0s - loss: 0.4771 - accuracy: 0.7760 - val_loss: 0.4947 - val_accuracy: 0.7561 - 63ms/epoch - 4ms/step\n",
      "Epoch 41/90\n",
      "16/16 - 0s - loss: 0.4695 - accuracy: 0.7699 - val_loss: 0.5321 - val_accuracy: 0.7642 - 61ms/epoch - 4ms/step\n",
      "Epoch 42/90\n",
      "16/16 - 0s - loss: 0.4565 - accuracy: 0.7658 - val_loss: 0.5027 - val_accuracy: 0.7724 - 58ms/epoch - 4ms/step\n",
      "Epoch 43/90\n",
      "16/16 - 0s - loss: 0.4482 - accuracy: 0.7780 - val_loss: 0.5134 - val_accuracy: 0.7480 - 58ms/epoch - 4ms/step\n",
      "Epoch 44/90\n",
      "16/16 - 0s - loss: 0.4630 - accuracy: 0.7637 - val_loss: 0.5651 - val_accuracy: 0.6992 - 61ms/epoch - 4ms/step\n",
      "Epoch 45/90\n",
      "16/16 - 0s - loss: 0.4553 - accuracy: 0.7658 - val_loss: 0.5294 - val_accuracy: 0.7398 - 58ms/epoch - 4ms/step\n",
      "Epoch 46/90\n",
      "16/16 - 0s - loss: 0.4596 - accuracy: 0.7780 - val_loss: 0.4713 - val_accuracy: 0.7398 - 71ms/epoch - 4ms/step\n",
      "Epoch 47/90\n",
      "16/16 - 0s - loss: 0.5061 - accuracy: 0.7678 - val_loss: 0.6856 - val_accuracy: 0.6992 - 70ms/epoch - 4ms/step\n",
      "Epoch 48/90\n",
      "16/16 - 0s - loss: 0.5023 - accuracy: 0.7434 - val_loss: 0.5207 - val_accuracy: 0.7724 - 63ms/epoch - 4ms/step\n",
      "Epoch 49/90\n",
      "16/16 - 0s - loss: 0.5006 - accuracy: 0.7495 - val_loss: 0.5691 - val_accuracy: 0.7154 - 66ms/epoch - 4ms/step\n",
      "Epoch 50/90\n",
      "16/16 - 0s - loss: 0.4703 - accuracy: 0.7800 - val_loss: 0.4910 - val_accuracy: 0.7561 - 59ms/epoch - 4ms/step\n",
      "Epoch 51/90\n",
      "16/16 - 0s - loss: 0.4838 - accuracy: 0.7637 - val_loss: 0.5504 - val_accuracy: 0.6992 - 63ms/epoch - 4ms/step\n",
      "Epoch 52/90\n",
      "16/16 - 0s - loss: 0.4811 - accuracy: 0.7658 - val_loss: 0.5391 - val_accuracy: 0.7561 - 61ms/epoch - 4ms/step\n",
      "Epoch 53/90\n",
      "16/16 - 0s - loss: 0.4547 - accuracy: 0.7862 - val_loss: 0.4854 - val_accuracy: 0.7886 - 57ms/epoch - 4ms/step\n",
      "Epoch 54/90\n",
      "16/16 - 0s - loss: 0.4511 - accuracy: 0.7984 - val_loss: 0.5372 - val_accuracy: 0.7398 - 60ms/epoch - 4ms/step\n",
      "Epoch 55/90\n",
      "16/16 - 0s - loss: 0.4621 - accuracy: 0.7821 - val_loss: 0.4971 - val_accuracy: 0.7561 - 60ms/epoch - 4ms/step\n",
      "Epoch 56/90\n",
      "16/16 - 0s - loss: 0.4523 - accuracy: 0.7862 - val_loss: 0.5209 - val_accuracy: 0.7398 - 59ms/epoch - 4ms/step\n",
      "Epoch 57/90\n",
      "16/16 - 0s - loss: 0.4631 - accuracy: 0.7699 - val_loss: 0.5394 - val_accuracy: 0.7480 - 63ms/epoch - 4ms/step\n",
      "Epoch 58/90\n",
      "16/16 - 0s - loss: 0.4739 - accuracy: 0.7882 - val_loss: 0.5570 - val_accuracy: 0.7236 - 60ms/epoch - 4ms/step\n",
      "Epoch 59/90\n",
      "16/16 - 0s - loss: 0.4712 - accuracy: 0.7719 - val_loss: 0.4899 - val_accuracy: 0.7724 - 60ms/epoch - 4ms/step\n",
      "Epoch 60/90\n",
      "16/16 - 0s - loss: 0.4564 - accuracy: 0.7780 - val_loss: 0.6614 - val_accuracy: 0.7480 - 57ms/epoch - 4ms/step\n",
      "Epoch 61/90\n",
      "16/16 - 0s - loss: 0.4661 - accuracy: 0.7556 - val_loss: 0.5153 - val_accuracy: 0.7724 - 64ms/epoch - 4ms/step\n",
      "Epoch 62/90\n",
      "16/16 - 0s - loss: 0.4497 - accuracy: 0.7862 - val_loss: 0.5786 - val_accuracy: 0.7154 - 57ms/epoch - 4ms/step\n",
      "Epoch 63/90\n",
      "16/16 - 0s - loss: 0.4262 - accuracy: 0.8045 - val_loss: 0.5491 - val_accuracy: 0.7724 - 56ms/epoch - 4ms/step\n",
      "Epoch 64/90\n",
      "16/16 - 0s - loss: 0.4637 - accuracy: 0.7678 - val_loss: 0.5728 - val_accuracy: 0.7317 - 64ms/epoch - 4ms/step\n",
      "Epoch 65/90\n",
      "16/16 - 0s - loss: 0.4409 - accuracy: 0.7841 - val_loss: 0.4665 - val_accuracy: 0.7480 - 64ms/epoch - 4ms/step\n",
      "Epoch 66/90\n",
      "16/16 - 0s - loss: 0.4605 - accuracy: 0.7780 - val_loss: 0.5576 - val_accuracy: 0.7561 - 56ms/epoch - 4ms/step\n"
     ]
    },
    {
     "name": "stdout",
     "output_type": "stream",
     "text": [
      "Epoch 67/90\n",
      "16/16 - 0s - loss: 0.4751 - accuracy: 0.7556 - val_loss: 0.6412 - val_accuracy: 0.6911 - 56ms/epoch - 3ms/step\n",
      "Epoch 68/90\n",
      "16/16 - 0s - loss: 0.4455 - accuracy: 0.8126 - val_loss: 0.4609 - val_accuracy: 0.7886 - 51ms/epoch - 3ms/step\n",
      "Epoch 69/90\n",
      "16/16 - 0s - loss: 0.4208 - accuracy: 0.7984 - val_loss: 0.5792 - val_accuracy: 0.7480 - 54ms/epoch - 3ms/step\n",
      "Epoch 70/90\n",
      "16/16 - 0s - loss: 0.4259 - accuracy: 0.7821 - val_loss: 0.5363 - val_accuracy: 0.7724 - 53ms/epoch - 3ms/step\n",
      "Epoch 71/90\n",
      "16/16 - 0s - loss: 0.4421 - accuracy: 0.8004 - val_loss: 0.6512 - val_accuracy: 0.7480 - 58ms/epoch - 4ms/step\n",
      "Epoch 72/90\n",
      "16/16 - 0s - loss: 0.4375 - accuracy: 0.8004 - val_loss: 0.5700 - val_accuracy: 0.7398 - 55ms/epoch - 3ms/step\n",
      "Epoch 73/90\n",
      "16/16 - 0s - loss: 0.4017 - accuracy: 0.8167 - val_loss: 0.6742 - val_accuracy: 0.7805 - 54ms/epoch - 3ms/step\n",
      "Epoch 74/90\n",
      "16/16 - 0s - loss: 0.4357 - accuracy: 0.7923 - val_loss: 0.7176 - val_accuracy: 0.7236 - 57ms/epoch - 4ms/step\n",
      "Epoch 75/90\n",
      "16/16 - 0s - loss: 0.4810 - accuracy: 0.7576 - val_loss: 0.5108 - val_accuracy: 0.7480 - 56ms/epoch - 4ms/step\n",
      "Epoch 76/90\n",
      "16/16 - 0s - loss: 0.4900 - accuracy: 0.7597 - val_loss: 0.6487 - val_accuracy: 0.7398 - 55ms/epoch - 3ms/step\n",
      "Epoch 77/90\n",
      "16/16 - 0s - loss: 0.4675 - accuracy: 0.7780 - val_loss: 0.5817 - val_accuracy: 0.7724 - 51ms/epoch - 3ms/step\n",
      "Epoch 78/90\n",
      "16/16 - 0s - loss: 0.4467 - accuracy: 0.7780 - val_loss: 0.6511 - val_accuracy: 0.7317 - 60ms/epoch - 4ms/step\n",
      "Epoch 79/90\n",
      "16/16 - 0s - loss: 0.5014 - accuracy: 0.7576 - val_loss: 0.5635 - val_accuracy: 0.7154 - 64ms/epoch - 4ms/step\n",
      "Epoch 80/90\n",
      "16/16 - 0s - loss: 0.4841 - accuracy: 0.7576 - val_loss: 0.5733 - val_accuracy: 0.7398 - 60ms/epoch - 4ms/step\n",
      "Epoch 81/90\n",
      "16/16 - 0s - loss: 0.4631 - accuracy: 0.7882 - val_loss: 0.5100 - val_accuracy: 0.7886 - 54ms/epoch - 3ms/step\n",
      "Epoch 82/90\n",
      "16/16 - 0s - loss: 0.4644 - accuracy: 0.7760 - val_loss: 0.6101 - val_accuracy: 0.6992 - 49ms/epoch - 3ms/step\n",
      "Epoch 83/90\n",
      "16/16 - 0s - loss: 0.4523 - accuracy: 0.7760 - val_loss: 0.6042 - val_accuracy: 0.7236 - 52ms/epoch - 3ms/step\n",
      "Epoch 84/90\n",
      "16/16 - 0s - loss: 0.4489 - accuracy: 0.7780 - val_loss: 0.6668 - val_accuracy: 0.7073 - 56ms/epoch - 3ms/step\n",
      "Epoch 85/90\n",
      "16/16 - 0s - loss: 0.4751 - accuracy: 0.7739 - val_loss: 0.6292 - val_accuracy: 0.7480 - 57ms/epoch - 4ms/step\n",
      "Epoch 86/90\n",
      "16/16 - 0s - loss: 0.4576 - accuracy: 0.7699 - val_loss: 0.6518 - val_accuracy: 0.7073 - 57ms/epoch - 4ms/step\n",
      "Epoch 87/90\n",
      "16/16 - 0s - loss: 0.4491 - accuracy: 0.7821 - val_loss: 0.5984 - val_accuracy: 0.7236 - 56ms/epoch - 4ms/step\n",
      "Epoch 88/90\n",
      "16/16 - 0s - loss: 0.4700 - accuracy: 0.7678 - val_loss: 0.9151 - val_accuracy: 0.6992 - 57ms/epoch - 4ms/step\n",
      "Epoch 89/90\n",
      "16/16 - 0s - loss: 0.4943 - accuracy: 0.7658 - val_loss: 0.5435 - val_accuracy: 0.6911 - 59ms/epoch - 4ms/step\n",
      "Epoch 90/90\n",
      "16/16 - 0s - loss: 0.4787 - accuracy: 0.7617 - val_loss: 0.5730 - val_accuracy: 0.7236 - 53ms/epoch - 3ms/step\n"
     ]
    }
   ],
   "source": [
    "loaded_model = tf.keras.models.load_model(\"46loss76Acc.h5\")\n",
    "loaded_model.evaluate(x_test,y_test)\n",
    "history = loaded_model.fit(x_train, y_train, validation_split=0.20, epochs=90, verbose=2)"
   ]
  },
  {
   "cell_type": "code",
   "execution_count": 86,
   "id": "74cb0161",
   "metadata": {},
   "outputs": [
    {
     "data": {
      "image/png": "[encoded data removed]",
      "text/plain": [
       "<Figure size 432x288 with 1 Axes>"
      ]
     },
     "metadata": {
      "needs_background": "light"
     },
     "output_type": "display_data"
    }
   ],
   "source": [
    "plt.plot(history.history['accuracy'])\n",
    "plt.plot(history.history['loss'])\n",
    "plt.legend(['acc','loss'])\n",
    "plt.show()"
   ]
  },
  {
   "cell_type": "markdown",
   "id": "dc535462",
   "metadata": {},
   "source": [
    "#### on prend l'accuracy de notre meilleur modèle du machine learning (Random Forest)"
   ]
  },
  {
   "cell_type": "code",
   "execution_count": 88,
   "id": "1a60fbf8",
   "metadata": {},
   "outputs": [
    {
     "data": {
      "text/plain": [
       "0.7727272727272727"
      ]
     },
     "execution_count": 88,
     "metadata": {},
     "output_type": "execute_result"
    }
   ],
   "source": [
    "accuracy = metrics.accuracy_score(y_test,y_predRandom)\n",
    "accuracy\n",
    "#accuracy de random forest"
   ]
  },
  {
   "cell_type": "code",
   "execution_count": 89,
   "id": "31c4988e",
   "metadata": {},
   "outputs": [],
   "source": [
    "y_pred_Deep = loaded_model.predict(x_test)"
   ]
  },
  {
   "cell_type": "code",
   "execution_count": 90,
   "id": "87a34f77",
   "metadata": {},
   "outputs": [],
   "source": [
    "fprDeep,tprDeep,thRDeep = metrics.roc_curve(y_test,y_pred_Deep)\n",
    "fprRand,tprRand,thRandom = metrics.roc_curve(y_test,y_predRandom)"
   ]
  },
  {
   "cell_type": "code",
   "execution_count": 91,
   "id": "6b4fde4d",
   "metadata": {},
   "outputs": [],
   "source": [
    "aucR =  metrics.auc(fprRand, tprRand)\n",
    "aucDeep = metrics.auc(fprDeep,tprDeep)"
   ]
  },
  {
   "cell_type": "code",
   "execution_count": 92,
   "id": "40e2a4e8",
   "metadata": {},
   "outputs": [
    {
     "data": {
      "image/png": "[encoded data removed]",
      "text/plain": [
       "<Figure size 432x288 with 1 Axes>"
      ]
     },
     "metadata": {
      "needs_background": "light"
     },
     "output_type": "display_data"
    }
   ],
   "source": [
    "plt.plot(fprDeep, tprDeep, '-', lw=2, label='Deep Learning,gamma=0.01, AUC=%.2f' % aucDeep)\n",
    "plt.plot(fprR, tprR, '-', lw=2, label='Machine Learning,gamma=0.01, AUC=%.2f' % aucR)\n",
    "\n",
    "plt.xlabel('False Positive Rate', fontsize=16)\n",
    "plt.ylabel('True Positive Rate', fontsize=16)\n",
    "plt.title('ROC Curve for deep and machine', fontsize=16)\n",
    "plt.legend(loc=\"lower right\", fontsize=10)\n",
    "plt.show()"
   ]
  },
  {
   "cell_type": "code",
   "execution_count": 96,
   "id": "ed3c5f39",
   "metadata": {},
   "outputs": [],
   "source": [
    "import pickle"
   ]
  },
  {
   "cell_type": "code",
   "execution_count": 97,
   "id": "c6abee79",
   "metadata": {},
   "outputs": [],
   "source": [
    "with open('mypickle.pickle', 'wb') as f:\n",
    "    pickle.dump(clf, f)"
   ]
  },
  {
   "cell_type": "code",
   "execution_count": 98,
   "id": "15bad190",
   "metadata": {},
   "outputs": [
    {
     "name": "stdout",
     "output_type": "stream",
     "text": [
      "<_io.BufferedWriter name='mypickle.pickle'>\n"
     ]
    }
   ],
   "source": [
    "print(f)"
   ]
  },
  {
   "cell_type": "code",
   "execution_count": null,
   "id": "c2db960c",
   "metadata": {},
   "outputs": [],
   "source": []
  }
 ],
 "metadata": {
  "kernelspec": {
   "display_name": "Python 3",
   "language": "python",
   "name": "python3"
  },
  "language_info": {
   "codemirror_mode": {
    "name": "ipython",
    "version": 3
   },
   "file_extension": ".py",
   "mimetype": "text/x-python",
   "name": "python",
   "nbconvert_exporter": "python",
   "pygments_lexer": "ipython3",
   "version": "3.8.8"
  }
 },
 "nbformat": 4,
 "nbformat_minor": 5
}
